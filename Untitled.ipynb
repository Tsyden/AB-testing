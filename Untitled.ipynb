{
 "cells": [
  {
   "cell_type": "code",
   "execution_count": 1,
   "id": "71c730c3-e658-4996-8246-8bc3bbc9d4da",
   "metadata": {},
   "outputs": [
    {
     "name": "stdout",
     "output_type": "stream",
     "text": [
      "10\n"
     ]
    }
   ],
   "source": [
    "print(10)"
   ]
  },
  {
   "cell_type": "code",
   "execution_count": 21,
   "id": "c73b52df-9c4f-43bf-aff0-0abf37f59640",
   "metadata": {},
   "outputs": [
    {
     "name": "stdout",
     "output_type": "stream",
     "text": [
      "p-values без поправки: [0.0001806072436410891, 1.3506661720677423e-24]\n"
     ]
    }
   ],
   "source": [
    "import numpy as np\n",
    "from scipy.stats import ttest_ind\n",
    "\n",
    "# Создадим 3 группы: контрольную и 2 экспериментальные\n",
    "##np.random.seed(42)\n",
    "control = np.random.normal(100, 10, 1000)\n",
    "test1 = np.random.normal(102, 10, 1000)  # Малое отличие\n",
    "test2 = np.random.normal(105, 10, 1000)  # Существенное отличие\n",
    "\n",
    "# Проведем t-тест для каждой гипотезы\n",
    "p_values = [\n",
    "    ttest_ind(control, test1).pvalue,\n",
    "    ttest_ind(control, test2).pvalue\n",
    "]\n",
    "\n",
    "print(\"p-values без поправки:\", p_values)"
   ]
  },
  {
   "cell_type": "code",
   "execution_count": 23,
   "id": "b843dc55-5183-41d6-a884-01ed816666d7",
   "metadata": {},
   "outputs": [
    {
     "name": "stdout",
     "output_type": "stream",
     "text": [
      "p-values с поправкой Бонферрони: [3.61214487e-04 2.70133234e-24]\n",
      "Решение (отклонять нулевую гипотезу?): [ True  True]\n"
     ]
    }
   ],
   "source": [
    "from statsmodels.stats.multitest import multipletests\n",
    "\n",
    "alpha = 0.05  # Уровень значимости\n",
    "adjusted = multipletests(p_values, alpha=alpha, method=\"bonferroni\")\n",
    "\n",
    "print(\"p-values с поправкой Бонферрони:\", adjusted[1])\n",
    "print(\"Решение (отклонять нулевую гипотезу?):\", adjusted[0])"
   ]
  },
  {
   "cell_type": "code",
   "execution_count": null,
   "id": "3cb947e4-e9d3-4d4b-9590-c36d74c5b84d",
   "metadata": {},
   "outputs": [],
   "source": []
  }
 ],
 "metadata": {
  "kernelspec": {
   "display_name": "Python 3 (ipykernel)",
   "language": "python",
   "name": "python3"
  },
  "language_info": {
   "codemirror_mode": {
    "name": "ipython",
    "version": 3
   },
   "file_extension": ".py",
   "mimetype": "text/x-python",
   "name": "python",
   "nbconvert_exporter": "python",
   "pygments_lexer": "ipython3",
   "version": "3.12.4"
  }
 },
 "nbformat": 4,
 "nbformat_minor": 5
}
