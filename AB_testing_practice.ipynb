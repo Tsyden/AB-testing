{
 "cells": [
  {
   "cell_type": "code",
   "execution_count": 3,
   "id": "41a05997-8d61-4a2c-98db-886cba1674b0",
   "metadata": {},
   "outputs": [],
   "source": [
    "import pandas as pd\n",
    "from tqdm import tqdm\n",
    "import random\n",
    "import numpy as np\n",
    "import matplotlib.pyplot as plt\n",
    "import seaborn as sns\n",
    "import statsmodels.api as sma\n",
    "from scipy.stats import ttest_1samp, shapiro, levene, ttest_ind, mannwhitneyu, \\\n",
    "    pearsonr, spearmanr, kendalltau, f_oneway, kruskal, norm\n",
    "from statsmodels.stats.proportion import proportions_ztest\n",
    "import statsmodels.stats as sms"
   ]
  },
  {
   "cell_type": "markdown",
   "id": "5035b227-fb1d-4d95-87ee-53a56100334c",
   "metadata": {},
   "source": [
    "Создаем исторические таблицы. \n",
    "Таблица dfp - данные с транзакциями. Столбцы: ИД клиента, сумма покупки, дата покупки.\n",
    "Таблица dfc - клиентские данные. Столбцы: ИД клиента, возраст, пол, регион, годовой доход, флаг лояльности."
   ]
  },
  {
   "cell_type": "code",
   "execution_count": 5,
   "id": "3f79612a-e6a8-4eda-9a00-d87e24facc8c",
   "metadata": {},
   "outputs": [
    {
     "name": "stdout",
     "output_type": "stream",
     "text": [
      "   client_id  purchase_amount purchase_date\n",
      "0          1           196.40    2024-10-23\n",
      "1          1           213.69    2024-10-04\n",
      "2          1           328.97    2024-10-23\n",
      "3          1            74.69    2024-10-31\n",
      "4          1           328.36    2024-10-29\n",
      "   client_id  age  gender region  income  loyalty_score\n",
      "0          1   44    male   West   68313       0.820694\n",
      "1          2   53  female  North   91958       0.295158\n",
      "2          3   63    male  North   60929       0.471122\n",
      "3          4   52    male  South   52136       0.975606\n",
      "4          5   49    male   West  108991       0.572810\n"
     ]
    }
   ],
   "source": [
    "# Устанавливаем параметры генерации данных\n",
    "np.random.seed(42)  # для воспроизводимости\n",
    "num_clients = 100000\n",
    "\n",
    "# Таблица 1: покупки клиентов за октябрь 2024\n",
    "dates_october = pd.date_range(start=\"2024-10-01\", end=\"2024-10-31\")\n",
    "client_ids = np.arange(1, num_clients + 1)\n",
    "num_purchases = np.random.randint(0, 10, size=num_clients)  # число покупок для каждого клиента\n",
    "\n",
    "# Генерация данных о покупках\n",
    "purchase_data = []\n",
    "for client_id, purchases in zip(client_ids, num_purchases):\n",
    "    for _ in range(purchases):\n",
    "        purchase_data.append({\n",
    "            \"client_id\": client_id,\n",
    "            \"purchase_amount\": round(np.random.uniform(5, 500), 2),  # сумма покупки в диапазоне 5-500\n",
    "            \"purchase_date\": np.random.choice(dates_october)  # случайная дата октября\n",
    "        })\n",
    "\n",
    "dfp = pd.DataFrame(purchase_data)\n",
    "print(dfp.head(5))\n",
    "\n",
    "# Таблица 2: клиентские данные\n",
    "dfc = pd.DataFrame({\n",
    "    \"client_id\": client_ids,\n",
    "    \"age\": np.random.randint(18, 70, size=num_clients),  # возраст клиента\n",
    "    \"gender\": np.random.choice([\"male\", \"female\"], size=num_clients),  # пол клиента\n",
    "    \"region\": np.random.choice([\"North\", \"South\", \"East\", \"West\"], size=num_clients),  # регион проживания\n",
    "    \"income\": np.random.randint(20000, 150000, size=num_clients),  # годовой доход\n",
    "    \"loyalty_score\": np.random.uniform(0, 1, size=num_clients)  # уровень лояльности (0-1)\n",
    "})\n",
    "print(dfc.head(5))"
   ]
  },
  {
   "cell_type": "code",
   "execution_count": 154,
   "id": "26fea0fb-df06-4b9f-9b07-4ed64c307d37",
   "metadata": {},
   "outputs": [
    {
     "data": {
      "text/plain": [
       "100000"
      ]
     },
     "execution_count": 154,
     "metadata": {},
     "output_type": "execute_result"
    }
   ],
   "source": [
    "dfc.client_id.nunique()"
   ]
  },
  {
   "cell_type": "markdown",
   "id": "e8104fbd-57f3-4e20-8906-6b79b44e0aac",
   "metadata": {},
   "source": [
    "Создаем агрегированные таблицы с суммой покупок и кол-вом покупок по клиенту"
   ]
  },
  {
   "cell_type": "code",
   "execution_count": 7,
   "id": "0f96e0ed-713c-4768-904f-bac65cd2fde1",
   "metadata": {},
   "outputs": [
    {
     "name": "stdout",
     "output_type": "stream",
     "text": [
      "   client_id  total_purchase_amount\n",
      "0          1                1261.40\n",
      "1          2                 967.17\n",
      "2          3                1770.06\n",
      "3          4                1382.90\n",
      "4          5                2482.11\n",
      "   client_id  total_purchase_count\n",
      "0          1                     6\n",
      "1          2                     3\n",
      "2          3                     7\n",
      "3          4                     4\n",
      "4          5                     6\n"
     ]
    }
   ],
   "source": [
    "# Группируем по client_id и считаем сумму покупок для каждого клиента\n",
    "dfp_inc = dfp.groupby('client_id')['purchase_amount'].sum().reset_index()\n",
    "# Переименовываем столбец для удобства\n",
    "dfp_inc.rename(columns={'purchase_amount': 'total_purchase_amount'}, inplace=True)\n",
    "\n",
    "# Группируем по client_id и считаем кол-во покупок для каждого клиента\n",
    "dfp_cnt = dfp.groupby('client_id')['purchase_amount'].count().reset_index()\n",
    "# Переименовываем столбец для удобства\n",
    "dfp_cnt.rename(columns={'purchase_amount': 'total_purchase_count'}, inplace=True)\n",
    "\n",
    "# Выводим первые 5 строк для проверки\n",
    "print(dfp_inc.head())\n",
    "print(dfp_cnt.head())"
   ]
  },
  {
   "cell_type": "markdown",
   "id": "9c760c7a-a7fa-470a-9d30-101a6ef24a99",
   "metadata": {},
   "source": [
    "## Средние\n",
    "Посмотрим на статистики исторических данных"
   ]
  },
  {
   "cell_type": "code",
   "execution_count": 9,
   "id": "670bf304-b7d8-4b59-a915-70fac3f38925",
   "metadata": {},
   "outputs": [
    {
     "name": "stdout",
     "output_type": "stream",
     "text": [
      "count     90026.000000\n",
      "median     1225.510000\n",
      "mean       1268.114427\n",
      "std         726.981685\n",
      "max        3805.160000\n",
      "Name: total_purchase_amount, dtype: float64\n",
      "count     90026.000000\n",
      "median        5.000000\n",
      "mean          5.015840\n",
      "std           2.581668\n",
      "max           9.000000\n",
      "Name: total_purchase_count, dtype: float64\n"
     ]
    }
   ],
   "source": [
    "print(dfp_inc.total_purchase_amount.agg([\"count\", \"median\", \"mean\", \"std\", \"max\"]))\n",
    "print(dfp_cnt.total_purchase_count.agg([\"count\", \"median\", \"mean\", \"std\", \"max\"]))"
   ]
  },
  {
   "cell_type": "code",
   "execution_count": 10,
   "id": "456f45fd-a0cc-4531-8501-9a272c5e810a",
   "metadata": {},
   "outputs": [
    {
     "data": {
      "image/png": "[encoded data removed]",
      "text/plain": [
       "<Figure size 400x250 with 1 Axes>"
      ]
     },
     "metadata": {},
     "output_type": "display_data"
    }
   ],
   "source": [
    "# Строим гистограмму распределения общей суммы покупок\n",
    "plt.figure(figsize=(4, 2.5))\n",
    "sns.histplot(dfp_inc['total_purchase_amount'], kde=True, bins=50, color='skyblue')\n",
    "\n",
    "# Настройка графика\n",
    "plt.title('Распределение общей суммы покупок по клиентам', fontsize=10)\n",
    "plt.xlabel('Общая сумма покупок', fontsize=10)\n",
    "plt.ylabel('Частота', fontsize=10)\n",
    "plt.grid(True)\n",
    "\n",
    "# Показываем график\n",
    "plt.show()"
   ]
  },
  {
   "cell_type": "code",
   "execution_count": 11,
   "id": "746e067b-5c7e-4ab5-978e-94f9cb9359a4",
   "metadata": {},
   "outputs": [
    {
     "name": "stdout",
     "output_type": "stream",
     "text": [
      "Group A - Test Stat = 0.97520356275802499990135, p-value = 0.00000000000000000000000\n"
     ]
    },
    {
     "name": "stderr",
     "output_type": "stream",
     "text": [
      "C:\\Users\\junte\\anaconda3\\Lib\\site-packages\\scipy\\stats\\_axis_nan_policy.py:531: UserWarning: scipy.stats.shapiro: For N > 5000, computed p-value may not be accurate. Current N is 90026.\n",
      "  res = hypotest_fun_out(*samples, **kwds)\n"
     ]
    }
   ],
   "source": [
    "test_stat_A, pvalue_A = shapiro(dfp_inc.total_purchase_amount)\n",
    "print('Group A - Test Stat = %.23f, p-value = %.23f' % (test_stat_A, pvalue_A))"
   ]
  },
  {
   "cell_type": "markdown",
   "id": "0654876c-3739-4632-9270-3596025f0e57",
   "metadata": {},
   "source": [
    "#### Задаем параметры теста"
   ]
  },
  {
   "cell_type": "code",
   "execution_count": 13,
   "id": "975af02a-fc12-425a-99c8-30f1d618e5ff",
   "metadata": {},
   "outputs": [
    {
     "name": "stdout",
     "output_type": "stream",
     "text": [
      "mean = 1268.1144268322485\n",
      "std = 726.9816848259933\n",
      "absolute effect = 63.40572134161243\n"
     ]
    }
   ],
   "source": [
    "# Параметры\n",
    "alpha = 0.05  # уровень значимостиal\n",
    "beta = 0.2   # 1 - мощность теста\n",
    "effect_size = 0.05  # МДЕ в процентах\n",
    "mu_control = dfp_inc.total_purchase_amount.mean()  # средняя выручка\n",
    "md_effect = mu_control * effect_size # МДЕ в абсолютных единицах\n",
    "std = dfp_inc.total_purchase_amount.std()  # стандартное отклонение\n",
    "mu_pilot = mu_control + md_effect  # средняя выручка с пользователя в экспериментальной группе\n",
    "print('mean =',mu_control)\n",
    "print('std =', std)\n",
    "print('absolute effect =',md_effect)\n"
   ]
  },
  {
   "cell_type": "code",
   "execution_count": 14,
   "id": "ab0927cd-0709-4c51-89c2-5d9940dd0572",
   "metadata": {},
   "outputs": [
    {
     "name": "stdout",
     "output_type": "stream",
     "text": [
      "1228.1022353076632 1308.1266183568337\n"
     ]
    }
   ],
   "source": [
    "critical_value_left = mu_control + norm.ppf(alpha / 2) * (std/mu_control**0.5)  # Нижний критический порог\n",
    "critical_value_right = mu_control + norm.ppf(1 - alpha / 2) * (std/mu_control**0.5)  # Верхний критический порог\n",
    "print(critical_value_left, critical_value_right)"
   ]
  },
  {
   "cell_type": "markdown",
   "id": "b01bc6df-b8c2-455a-8049-2afa8c69bf72",
   "metadata": {},
   "source": [
    "#### Расчет размера выборки с помощью готовых библиотек и cohen_d"
   ]
  },
  {
   "cell_type": "code",
   "execution_count": 16,
   "id": "aa6e0723-fc3d-4158-9045-ab0bd43af6c2",
   "metadata": {},
   "outputs": [
    {
     "name": "stdout",
     "output_type": "stream",
     "text": [
      "Необходимый размер выборки для каждой группы: 2065\n"
     ]
    }
   ],
   "source": [
    "# Расчет эффекта в терминах стандартного отклонения (Cohen's d)\n",
    "cohen_d = md_effect / std \n",
    "\n",
    "# Расчет размера выборки для двухвыборочного t-теста\n",
    "sample_size1 = sms.power.TTestIndPower().solve_power(effect_size=cohen_d, alpha=alpha, power=1-beta, alternative='two-sided')\n",
    "\n",
    "# Вывод размера выборки\n",
    "\n",
    "print(f\"Необходимый размер выборки для каждой группы: {round(sample_size1)}\")"
   ]
  },
  {
   "cell_type": "markdown",
   "id": "0dd38b5a-7548-4849-bb03-de88d73bf668",
   "metadata": {},
   "source": [
    "#### Расчет размера выборки по формуле"
   ]
  },
  {
   "cell_type": "code",
   "execution_count": 18,
   "id": "7c8a669b-d2b6-422e-aaaa-d1d4c30f0340",
   "metadata": {},
   "outputs": [
    {
     "name": "stdout",
     "output_type": "stream",
     "text": [
      "оценка необходимого размера групп = 2063\n"
     ]
    }
   ],
   "source": [
    "def estimate_sample_size(effect, std, alpha, beta):\n",
    "    \"\"\"Оценка необходимого размер групп.\"\"\"\n",
    "    t_alpha = norm.ppf(1 - alpha / 2, loc=0, scale=1)\n",
    "    t_beta = norm.ppf(1 - beta, loc=0, scale=1)\n",
    "    var = 2 * std ** 2\n",
    "    sample_size = int((t_alpha + t_beta) ** 2 * var / (effect ** 2))\n",
    "    return sample_size\n",
    "\n",
    "#cohen_d = effect / std\n",
    "\n",
    "sample_size2 = estimate_sample_size(md_effect, std, alpha, beta)\n",
    "\n",
    " \n",
    "\n",
    "print(f'оценка необходимого размера групп = {sample_size2}')"
   ]
  },
  {
   "cell_type": "markdown",
   "id": "1da4a56a-c4dd-4505-951e-7249de779c2c",
   "metadata": {},
   "source": [
    "#### Расчет размера выборки и МДЕ бутстрапированием"
   ]
  },
  {
   "cell_type": "code",
   "execution_count": 340,
   "id": "72d10b57-dbb8-4960-a83d-83612f868d61",
   "metadata": {},
   "outputs": [
    {
     "name": "stderr",
     "output_type": "stream",
     "text": [
      "100%|████████████████████████████████████████████████████████████████████████████████████| 9/9 [00:32<00:00,  3.58s/it]\n"
     ]
    },
    {
     "data": {
      "text/html": [
       "<div>\n",
       "<style scoped>\n",
       "    .dataframe tbody tr th:only-of-type {\n",
       "        vertical-align: middle;\n",
       "    }\n",
       "\n",
       "    .dataframe tbody tr th {\n",
       "        vertical-align: top;\n",
       "    }\n",
       "\n",
       "    .dataframe thead th {\n",
       "        text-align: right;\n",
       "    }\n",
       "</style>\n",
       "<table border=\"1\" class=\"dataframe\">\n",
       "  <thead>\n",
       "    <tr style=\"text-align: right;\">\n",
       "      <th></th>\n",
       "      <th>minimum_lift</th>\n",
       "      <th>mde</th>\n",
       "      <th>n_items</th>\n",
       "      <th>users</th>\n",
       "    </tr>\n",
       "  </thead>\n",
       "  <tbody>\n",
       "    <tr>\n",
       "      <th>0</th>\n",
       "      <td>62.972560</td>\n",
       "      <td>0.087025</td>\n",
       "      <td>2</td>\n",
       "      <td>919</td>\n",
       "    </tr>\n",
       "    <tr>\n",
       "      <th>1</th>\n",
       "      <td>46.964160</td>\n",
       "      <td>0.065900</td>\n",
       "      <td>3</td>\n",
       "      <td>1883</td>\n",
       "    </tr>\n",
       "    <tr>\n",
       "      <th>2</th>\n",
       "      <td>38.839403</td>\n",
       "      <td>0.054827</td>\n",
       "      <td>4</td>\n",
       "      <td>2735</td>\n",
       "    </tr>\n",
       "    <tr>\n",
       "      <th>3</th>\n",
       "      <td>34.506487</td>\n",
       "      <td>0.048125</td>\n",
       "      <td>5</td>\n",
       "      <td>3621</td>\n",
       "    </tr>\n",
       "    <tr>\n",
       "      <th>4</th>\n",
       "      <td>23.310617</td>\n",
       "      <td>0.031908</td>\n",
       "      <td>10</td>\n",
       "      <td>8275</td>\n",
       "    </tr>\n",
       "    <tr>\n",
       "      <th>5</th>\n",
       "      <td>15.517243</td>\n",
       "      <td>0.021362</td>\n",
       "      <td>20</td>\n",
       "      <td>17152</td>\n",
       "    </tr>\n",
       "    <tr>\n",
       "      <th>6</th>\n",
       "      <td>12.832881</td>\n",
       "      <td>0.017624</td>\n",
       "      <td>30</td>\n",
       "      <td>26045</td>\n",
       "    </tr>\n",
       "    <tr>\n",
       "      <th>7</th>\n",
       "      <td>11.029958</td>\n",
       "      <td>0.015140</td>\n",
       "      <td>40</td>\n",
       "      <td>34979</td>\n",
       "    </tr>\n",
       "    <tr>\n",
       "      <th>8</th>\n",
       "      <td>9.356693</td>\n",
       "      <td>0.012863</td>\n",
       "      <td>50</td>\n",
       "      <td>43936</td>\n",
       "    </tr>\n",
       "  </tbody>\n",
       "</table>\n",
       "</div>"
      ],
      "text/plain": [
       "   minimum_lift       mde  n_items  users\n",
       "0     62.972560  0.087025        2    919\n",
       "1     46.964160  0.065900        3   1883\n",
       "2     38.839403  0.054827        4   2735\n",
       "3     34.506487  0.048125        5   3621\n",
       "4     23.310617  0.031908       10   8275\n",
       "5     15.517243  0.021362       20  17152\n",
       "6     12.832881  0.017624       30  26045\n",
       "7     11.029958  0.015140       40  34979\n",
       "8      9.356693  0.012863       50  43936"
      ]
     },
     "execution_count": 340,
     "metadata": {},
     "output_type": "execute_result"
    }
   ],
   "source": [
    "#srednie\n",
    "def bootstrap(test, control, iterations = 1000):\n",
    "  iterations = iterations\n",
    "  size = min(len(test), len(control))\n",
    "  t_boots = [random.choices(test, weights=None, k=size) for _ in range(iterations)]\n",
    "  c_boots = [random.choices(control, weights=None, k=size) for _ in range(iterations)]\n",
    "  return t_boots, c_boots\n",
    "# #ratio\n",
    "# def bootstrap_ratio(test, control, iterations = 1000):\n",
    "#   iterations = iterations\n",
    "#   t_boots = [random.choices(test, weights=None, k=len(test)) for _ in range(iterations)]\n",
    "#   c_boots = [random.choices(control, weights=None, k=len(control)) for _ in range(iterations)]\n",
    "#   return t_boots, c_boots\n",
    "\n",
    "### 1. Функции аггрегации\n",
    "def agg_sum(array):\n",
    "  return [sum(i) for i in array]\n",
    "\n",
    "def agg_avg(array):\n",
    "  return [sum(i)/len(i) for i in array]\n",
    "\n",
    "def agg_median(array):\n",
    "  return [np.median(i) for i in array]\n",
    "\n",
    "\n",
    "### 2. Функции расчета статистики\n",
    "def diff(test, control):\n",
    "  return [test_i - control_i for (test_i,control_i) in zip(test,control)]\n",
    "\n",
    "def compare(test, control):\n",
    "  return [test_i/control_i for (test_i,control_i) in zip(test,control)]\n",
    "\n",
    "def perc_compare(test, control):\n",
    "  return [(test_i/control_i-1)*100 for (test_i,control_i) in zip(test,control)]\n",
    "  \n",
    "# Процент из генеральной совокупности\n",
    "slices = [2,3,4,5,10,20,30,40,50]\n",
    "minimum_lift = []\n",
    "mde = []\n",
    "n_items = []\n",
    "users = []\n",
    "\n",
    "dfp_inc['bucket_id'] = np.random.randint(1, 101, size=len(dfp_inc))  # Разбиение на 100 бакетов случайно\n",
    "\n",
    "for i in tqdm(slices):\n",
    "  test = dfp_inc[dfp_inc['bucket_id']<i]['total_purchase_amount'].to_list()\n",
    "  control = dfp_inc[(dfp_inc['bucket_id']>=i) &\\\n",
    "                  (dfp_inc['bucket_id']<2*i)]['total_purchase_amount'].to_list()\n",
    "  t_list, c_list = bootstrap(test, control)\n",
    "  # Разница средних\n",
    "  result = diff(agg_avg(t_list), agg_avg(c_list))\n",
    "  minimum_lift.append((np.quantile(result, 0.975) - np.quantile(result, 0.025))/2)\n",
    "  mde.append( minimum_lift[-1]/np.std(c_list))  \n",
    "  n_items.append(i)\n",
    "  users.append(min(len(test), len(control)))\n",
    "\n",
    "#Вывод таблицы с mde \n",
    "pd.DataFrame({'minimum_lift': minimum_lift, 'mde': mde,\n",
    "              'n_items': n_items, 'users': users})  \n",
    "    "
   ]
  },
  {
   "cell_type": "code",
   "execution_count": 21,
   "id": "e9a1852a-49c5-4bee-b7b1-d6fb76f5eff4",
   "metadata": {},
   "outputs": [
    {
     "name": "stdout",
     "output_type": "stream",
     "text": [
      "3607\n"
     ]
    }
   ],
   "source": [
    "sample_size3 = users[0]\n",
    "print(sample_size3)"
   ]
  },
  {
   "cell_type": "markdown",
   "id": "cb82f791-a52f-4d67-be33-917866807e11",
   "metadata": {},
   "source": [
    "#### Проведем синтетические АА и АБ тесты для оценки вероятности ошибок 1 и 2 рода"
   ]
  },
  {
   "cell_type": "code",
   "execution_count": 23,
   "id": "f8fed89a-25f5-4aca-a5e9-18c43875c50f",
   "metadata": {},
   "outputs": [
    {
     "name": "stderr",
     "output_type": "stream",
     "text": [
      "100%|███████████████████████████████████████████████████████████████████████████| 10000/10000 [00:27<00:00, 364.45it/s]\n",
      "100%|███████████████████████████████████████████████████████████████████████████| 10000/10000 [00:27<00:00, 364.42it/s]"
     ]
    },
    {
     "name": "stdout",
     "output_type": "stream",
     "text": [
      "оценка вероятности ошибки I рода = 0.0490\n",
      "  доверительный интервал = [0.0448, 0.0532]\n",
      "оценка вероятности ошибки II рода = 0.2036\n",
      "  доверительный интервал = [0.1957, 0.2115]\n"
     ]
    },
    {
     "name": "stderr",
     "output_type": "stream",
     "text": [
      "\n"
     ]
    }
   ],
   "source": [
    "def run_synthetic_experiments(values, sample_size, effect=0, n_iter= 10000):\n",
    "    \"\"\"Проводим синтетические эксперименты, возвращаем список p-value.\"\"\"\n",
    "    pvalues = []\n",
    "    values = values.to_numpy()\n",
    "    for _ in tqdm(range(n_iter)):\n",
    "        a, b = np.random.choice(values, size=(2, int(sample_size),), replace=False)\n",
    "        b += effect\n",
    "        ##mannwhitneyu\n",
    "        pvalue = ttest_ind(a, b).pvalue\n",
    "        pvalues.append(pvalue)\n",
    "    return np.array(pvalues)\n",
    "\n",
    "def print_estimated_errors(pvalues_aa, pvalues_ab, alpha):\n",
    "    \"\"\"Оценивает вероятности ошибок.\"\"\"\n",
    "    estimated_first_type_error = np.mean(pvalues_aa < alpha)\n",
    "    estimated_second_type_error = np.mean(pvalues_ab >= alpha)\n",
    "    ci_first = estimate_ci_bernoulli(estimated_first_type_error, len(pvalues_aa))\n",
    "    ci_second = estimate_ci_bernoulli(estimated_second_type_error, len(pvalues_ab))\n",
    "    print(f'оценка вероятности ошибки I рода = {estimated_first_type_error:0.4f}')\n",
    "    print(f'  доверительный интервал = [{ci_first[0]:0.4f}, {ci_first[1]:0.4f}]')\n",
    "    print(f'оценка вероятности ошибки II рода = {estimated_second_type_error:0.4f}')\n",
    "    print(f'  доверительный интервал = [{ci_second[0]:0.4f}, {ci_second[1]:0.4f}]')\n",
    "\n",
    "def estimate_ci_bernoulli(p, n, alpha=0.05):\n",
    "    \"\"\"Доверительный интервал для Бернуллиевской случайной величины.\"\"\"\n",
    "    t = norm.ppf(1 - alpha / 2, loc=0, scale=1)\n",
    "    std_n = np.sqrt(p * (1 - p) / n)\n",
    "    return p - t * std_n, p + t * std_n\n",
    "\n",
    "pvalues_aa = run_synthetic_experiments(dfp_inc.total_purchase_amount, sample_size1, effect=0)\n",
    "pvalues_ab = run_synthetic_experiments(dfp_inc.total_purchase_amount, sample_size1, effect=md_effect)\n",
    "print_estimated_errors(pvalues_aa, pvalues_ab, alpha)"
   ]
  },
  {
   "cell_type": "markdown",
   "id": "d6845c8d-a766-4d49-b49e-6ad564cb6c15",
   "metadata": {},
   "source": [
    "##### Для выборки размера 2500 FPR = 0.05, FNR = 0.2 . Если используем выборку размером 3600 (посчитано бустрапом), то FNR = 0.1\n",
    "#### Теперь попробуем добавить эффект и посчитать статзначимость"
   ]
  },
  {
   "cell_type": "code",
   "execution_count": 125,
   "id": "d30d6277-4bd8-4a27-9ef6-7059b4d6290a",
   "metadata": {},
   "outputs": [
    {
     "name": "stdout",
     "output_type": "stream",
     "text": [
      "1275.7120833333333 1356.5638318067288\n",
      "0.0003660337331760293\n",
      "0.0004773446413498879\n"
     ]
    }
   ],
   "source": [
    "a = np.random.choice(dfp_inc.total_purchase_amount, size=int(sample_size1), replace=False)\n",
    "b = np.random.choice(dfp_inc.total_purchase_amount, size=int(sample_size1), replace=False)\n",
    "b = b + md_effect\n",
    "print(a.mean(),b.mean())\n",
    "print(ttest_ind(a, b).pvalue)\n",
    "print(mannwhitneyu(a, b).pvalue)"
   ]
  },
  {
   "cell_type": "markdown",
   "id": "5bbfa779-f54d-438d-ac01-4c97538b9c1d",
   "metadata": {},
   "source": [
    "#### КЛАСТЕРИЗАЦИЯ\n",
    "Кластеризуем данные для создания групп с пропорциональными стратами"
   ]
  },
  {
   "cell_type": "code",
   "execution_count": 44,
   "id": "4a3146ef-b58c-4fd1-88ef-b68bc25b8032",
   "metadata": {},
   "outputs": [
    {
     "name": "stdout",
     "output_type": "stream",
     "text": [
      "[[ 0.03946591 -0.44538894  1.11768216]\n",
      " [ 0.63994127  0.18401012 -0.7047995 ]\n",
      " [ 1.30713611 -0.64194139 -0.09458185]\n",
      " [ 0.57322178 -0.87599959  1.65489484]\n",
      " [ 0.37306333  0.63740636  0.25805599]]\n"
     ]
    },
    {
     "data": {
      "image/png": "[encoded data removed]",
      "text/plain": [
       "<Figure size 400x250 with 1 Axes>"
      ]
     },
     "metadata": {},
     "output_type": "display_data"
    }
   ],
   "source": [
    "from sklearn.cluster import KMeans\n",
    "from sklearn.preprocessing import StandardScaler\n",
    "import random\n",
    "\n",
    "# Загружаем данные о клиентах\n",
    "\n",
    "# Подготовка данных для кластеризации\n",
    "numeric_columns = [\"age\", \"income\", \"loyalty_score\"]  # числовые столбцы для кластеризации\n",
    "data_for_clustering = dfc[numeric_columns]\n",
    "#print(data_for_clustering.head(10))\n",
    "\n",
    "# Нормализация данных\n",
    "scaler = StandardScaler()\n",
    "scaled_data = scaler.fit_transform(data_for_clustering)\n",
    "print(scaled_data[:5])\n",
    "# Метод локтя для определения количества кластеров\n",
    "inertia = []  # Список для хранения суммы квадратов внутрикластерных расстояний\n",
    "k_range = range(1, 20)  # Диапазон возможных кластеров\n",
    "\n",
    "for k in k_range:\n",
    "    kmeans = KMeans(n_clusters=k, random_state=42)\n",
    "    kmeans.fit(scaled_data)\n",
    "    inertia.append(kmeans.inertia_)\n",
    "\n",
    "# Построение графика метода локтя\n",
    "plt.figure(figsize=(4, 2.5))\n",
    "plt.plot(k_range, inertia, 'bo-', markersize=6)\n",
    "plt.xlabel('Количество кластеров', fontsize=6)\n",
    "plt.ylabel('Сумма квадратов внутрикластерных расстояний (Inertia)', fontsize=6)\n",
    "plt.title('Метод локтя для выбора количества кластеров', fontsize=6)\n",
    "plt.grid(True)\n",
    "plt.show()\n"
   ]
  },
  {
   "cell_type": "code",
   "execution_count": 54,
   "id": "e13c4485-5df9-4579-8e95-b6aceb45a600",
   "metadata": {},
   "outputs": [
    {
     "name": "stdout",
     "output_type": "stream",
     "text": [
      "Sizes 2060 2060\n",
      "1256.1163739837398 \n",
      " 1280.0415376401495\n",
      "2060\n"
     ]
    },
    {
     "data": {
      "image/png": "[encoded data removed]",
      "text/plain": [
       "<Figure size 400x250 with 1 Axes>"
      ]
     },
     "metadata": {},
     "output_type": "display_data"
    },
    {
     "data": {
      "image/png": "[encoded data removed]",
      "text/plain": [
       "<Figure size 400x250 with 1 Axes>"
      ]
     },
     "metadata": {},
     "output_type": "display_data"
    }
   ],
   "source": [
    "# Кластеризация (выбираем 10 кластеров как пример)\n",
    "kmeans = KMeans(n_clusters=10, random_state=42)\n",
    "dfc['cluster'] = kmeans.fit_predict(scaled_data)\n",
    "#print(dfc.head(10))\n",
    "# Разделение клиентов на группы A и B\n",
    "group_A = []\n",
    "group_B = []\n",
    "\n",
    "# Равномерное распределение клиентов из каждого кластера\n",
    "for cluster_id in dfc['cluster'].unique():\n",
    "    cluster_clients = dfc[dfc['cluster'] == cluster_id]\n",
    "    #if cluster_id == 1:\n",
    "        #print(cluster_clients.head(10))\n",
    "    sampled_clients = cluster_clients.sample(n= 2 * int(sample_size1) // 10)#, random_state=42)  # Пропорционально числу кластеров\n",
    "    half = len(sampled_clients) // 2\n",
    "    \n",
    "    group_A.extend(sampled_clients.iloc[:half]['client_id'].tolist())\n",
    "    group_B.extend(sampled_clients.iloc[half:]['client_id'].tolist())\n",
    "\n",
    "# Проверка итоговых размеров групп\n",
    "print('Sizes',len(group_A), len(group_B))\n",
    "#print(group_A[:10],group_B[:10])\n",
    "\n",
    "group_A_df = dfc[dfc['client_id'].isin(group_A)]\n",
    "group_B_df = dfc[dfc['client_id'].isin(group_B)]\n",
    "\n",
    "group_A_df = group_A_df.merge(dfp_inc, on='client_id', how='left')\n",
    "group_B_df = group_B_df.merge(dfp_inc, on='client_id', how='left')\n",
    "\n",
    "# Просмотр первых 5 строк для каждой группы\n",
    "print(group_A_df.total_purchase_amount.mean(),'\\n', group_B_df.total_purchase_amount.mean())\n",
    "\n",
    "# Строим гистограмму распределения общей суммы покупок группы А\n",
    "plt.figure(figsize=(4, 2.5))\n",
    "sns.histplot(group_A_df.total_purchase_amount, kde=True, bins=50, color='skyblue')\n",
    "\n",
    "# Настройка графика\n",
    "plt.title('Распределение общей суммы покупок по клиентам', fontsize=6)\n",
    "plt.xlabel('Общая сумма покупок', fontsize=6)\n",
    "plt.ylabel('Частота', fontsize=6)\n",
    "plt.grid(True)\n",
    "\n",
    "# Показываем график\n",
    "plt.show()\n",
    "\n",
    "# Строим гистограмму распределения общей суммы покупок группы Б\n",
    "plt.figure(figsize=(4, 2.5))\n",
    "sns.histplot(group_B_df.total_purchase_amount, kde=True, bins=50, color='skyblue')\n",
    "\n",
    "# Настройка графика\n",
    "plt.title('Распределение общей суммы покупок по клиентам', fontsize=6)\n",
    "plt.xlabel('Общая сумма покупок', fontsize=6)\n",
    "plt.ylabel('Частота', fontsize=6)\n",
    "plt.grid(True)\n",
    "\n",
    "# Показываем график\n",
    "plt.show()"
   ]
  },
  {
   "cell_type": "markdown",
   "id": "cccf78a3-2559-4a81-ae68-a6e81e90cb7f",
   "metadata": {},
   "source": [
    "#### Для большей правдоподобности генерим новые данные для группы А и Б "
   ]
  },
  {
   "cell_type": "code",
   "execution_count": 106,
   "id": "f6e015c5-7292-4af6-9257-1922520d6b16",
   "metadata": {},
   "outputs": [
    {
     "name": "stdout",
     "output_type": "stream",
     "text": [
      "2060 2060\n",
      "   client_id  total_purchase_amount\n",
      "0         46                1536.98\n",
      "1         78                1493.87\n",
      "2        129                 997.43\n",
      "3        150                 366.76\n",
      "4        212                 511.33\n",
      "   client_id  total_purchase_amount\n",
      "0         10                1466.78\n",
      "1         12                2737.67\n",
      "2         60                1069.74\n",
      "3        110                 664.62\n",
      "4        210                 969.57\n",
      "1230.0947475728155\n",
      "1322.6181844660193\n",
      "721.7734824249878\n",
      "763.6747308604878\n"
     ]
    },
    {
     "data": {
      "image/png": "[encoded data removed]",
      "text/plain": [
       "<Figure size 400x250 with 1 Axes>"
      ]
     },
     "metadata": {},
     "output_type": "display_data"
    },
    {
     "data": {
      "image/png": "[encoded data removed]",
      "text/plain": [
       "<Figure size 400x250 with 1 Axes>"
      ]
     },
     "metadata": {},
     "output_type": "display_data"
    }
   ],
   "source": [
    "# Параметры\n",
    "dates_range = pd.date_range(start=\"2024-11-01\", end=\"2024-11-14\")  # Для двух недель\n",
    "num_clients_A = len(group_A)  # Количество клиентов в группе A\n",
    "num_clients_B = len(group_B)  # Количество клиентов в группе B\n",
    "\n",
    "print(num_clients_A,num_clients_B)\n",
    "# Генерация покупок для группы A\n",
    "purchase_data_A = []\n",
    "for client_id in group_A:\n",
    "    num_purchases = np.random.randint(1, 10)  # случайное количество покупок (от 1 до 10)\n",
    "    for _ in range(num_purchases):\n",
    "        purchase_data_A.append({\n",
    "            \"client_id\": client_id,\n",
    "            \"purchase_amount\": round(np.random.uniform(5, 500), 2),  # случайная сумма покупки\n",
    "            \"purchase_date\": np.random.choice(dates_range)  # случайная дата\n",
    "        })\n",
    "\n",
    "# Генерация покупок для группы B (с увеличением суммы покупок на 5%)\n",
    "purchase_data_B = []\n",
    "for client_id in group_B:\n",
    "    num_purchases = np.random.randint(1, 10)  # случайное количество покупок (от 1 до 10)\n",
    "    for _ in range(num_purchases):\n",
    "        purchase_data_B.append({\n",
    "            \"client_id\": client_id,\n",
    "            \"purchase_amount\": round(np.random.uniform(5, 500) * 1.05, 2),  # увеличение суммы на 5%\n",
    "            \"purchase_date\": np.random.choice(dates_range)  # случайная дата\n",
    "        })\n",
    "\n",
    "# Создаем DataFrame для покупок группы A и B\n",
    "\n",
    "df_A = pd.DataFrame(purchase_data_A)\n",
    "df_B = pd.DataFrame(purchase_data_B)\n",
    "\n",
    "dfp_inc_A = df_A.groupby('client_id')['purchase_amount'].sum().reset_index()\n",
    "dfp_inc_A.rename(columns={'purchase_amount': 'total_purchase_amount'}, inplace=True)\n",
    "dfp_inc_B = df_B.groupby('client_id')['purchase_amount'].sum().reset_index()\n",
    "dfp_inc_B.rename(columns={'purchase_amount': 'total_purchase_amount'}, inplace=True)\n",
    "\n",
    "# Проверим, как выглядят данные\n",
    "print(dfp_inc_A.head(5))\n",
    "print(dfp_inc_B.head(5))\n",
    "print(dfp_inc_A.total_purchase_amount.mean())\n",
    "print(dfp_inc_B.total_purchase_amount.mean())\n",
    "print(dfp_inc_A.total_purchase_amount.std())\n",
    "print(dfp_inc_B.total_purchase_amount.std())\n",
    "\n",
    "\n",
    "# Строим гистограмму распределения общей суммы покупок группы А\n",
    "plt.figure(figsize=(4, 2.5))\n",
    "sns.histplot(dfp_inc_A.total_purchase_amount, kde=True, bins=50, color='skyblue')\n",
    "\n",
    "# Настройка графика\n",
    "plt.title('Распределение общей суммы покупок по клиентам', fontsize=6)\n",
    "plt.xlabel('Общая сумма покупок', fontsize=6)\n",
    "plt.ylabel('Частота', fontsize=6)\n",
    "plt.grid(True)\n",
    "\n",
    "# Показываем график\n",
    "plt.show()\n",
    "\n",
    "# Строим гистограмму распределения общей суммы покупок группы Б\n",
    "plt.figure(figsize=(4, 2.5))\n",
    "sns.histplot(dfp_inc_B.total_purchase_amount, kde=True, bins=50, color='skyblue')\n",
    "\n",
    "# Настройка графика\n",
    "plt.title('Распределение общей суммы покупок по клиентам', fontsize=6)\n",
    "plt.xlabel('Общая сумма покупок', fontsize=6)\n",
    "plt.ylabel('Частота', fontsize=6)\n",
    "plt.grid(True)\n",
    "\n",
    "# Показываем график\n",
    "plt.show()"
   ]
  },
  {
   "cell_type": "markdown",
   "id": "9f479dac-1252-425e-8d9e-d4e1cc1430e6",
   "metadata": {},
   "source": [
    "#### Фреймворк с Kaggle для расчета статзначимости с тестами Шапиро, Левена и т.д."
   ]
  },
  {
   "cell_type": "code",
   "execution_count": 119,
   "id": "4e19f134-d2a2-4c37-a104-8853d20c52ea",
   "metadata": {},
   "outputs": [
    {
     "name": "stdout",
     "output_type": "stream",
     "text": [
      "# A/B Testing Hypothesis\n",
      "H0: A == B\n",
      "H1: A != B \n",
      "\n"
     ]
    },
    {
     "data": {
      "text/html": [
       "<div>\n",
       "<style scoped>\n",
       "    .dataframe tbody tr th:only-of-type {\n",
       "        vertical-align: middle;\n",
       "    }\n",
       "\n",
       "    .dataframe tbody tr th {\n",
       "        vertical-align: top;\n",
       "    }\n",
       "\n",
       "    .dataframe thead th {\n",
       "        text-align: right;\n",
       "    }\n",
       "</style>\n",
       "<table border=\"1\" class=\"dataframe\">\n",
       "  <thead>\n",
       "    <tr style=\"text-align: right;\">\n",
       "      <th></th>\n",
       "      <th>Test Type</th>\n",
       "      <th>AB Hypothesis</th>\n",
       "      <th>p-value</th>\n",
       "      <th>Comment</th>\n",
       "    </tr>\n",
       "  </thead>\n",
       "  <tbody>\n",
       "    <tr>\n",
       "      <th>0</th>\n",
       "      <td>Non-Parametric</td>\n",
       "      <td>Reject H0</td>\n",
       "      <td>0.000271</td>\n",
       "      <td>A/B groups are not similar!</td>\n",
       "    </tr>\n",
       "  </tbody>\n",
       "</table>\n",
       "</div>"
      ],
      "text/plain": [
       "        Test Type AB Hypothesis   p-value                      Comment\n",
       "0  Non-Parametric     Reject H0  0.000271  A/B groups are not similar!"
      ]
     },
     "execution_count": 119,
     "metadata": {},
     "output_type": "execute_result"
    }
   ],
   "source": [
    "def AB_Test():\n",
    "    \n",
    "    # Packages\n",
    "    from scipy.stats import shapiro\n",
    "    import scipy.stats as stats\n",
    "    \n",
    "    # Split A/B\n",
    "    groupA = dfp_inc_A['total_purchase_amount']\n",
    "    groupB = dfp_inc_B['total_purchase_amount']\n",
    "    \n",
    "    # Assumption: Normality\n",
    "    ntA = shapiro(groupA)[1] < 0.05\n",
    "    ntB = shapiro(groupB)[1] < 0.05\n",
    "    # H0: Distribution is Normal! - False\n",
    "    # H1: Distribution is not Normal! - True\n",
    "    \n",
    "    if (ntA == False) & (ntB == False): # \"H0: Normal Distribution\"\n",
    "        # Parametric Test\n",
    "        # Assumption: Homogeneity of variances\n",
    "        leveneTest = stats.levene(groupA, groupB)[1] < 0.05\n",
    "        # H0: Homogeneity: False\n",
    "        # H1: Heterogeneous: True\n",
    "        \n",
    "        if leveneTest == False:\n",
    "            # Homogeneity\n",
    "            ttest = stats.ttest_ind(groupA, groupB, equal_var=True)[1]\n",
    "            # H0: M1 == M2 - False\n",
    "            # H1: M1 != M2 - True\n",
    "        else:\n",
    "            # Heterogeneous\n",
    "            ttest = stats.ttest_ind(groupA, groupB, equal_var=False)[1]\n",
    "            # H0: M1 == M2 - False\n",
    "            # H1: M1 != M2 - True\n",
    "    else:\n",
    "        # Non-Parametric Test\n",
    "        ttest = stats.mannwhitneyu(groupA, groupB)[1] \n",
    "        # H0: M1 == M2 - False\n",
    "        # H1: M1 != M2 - True\n",
    "        \n",
    "    # Result\n",
    "    temp = pd.DataFrame({\n",
    "        \"AB Hypothesis\":[ttest < 0.05], \n",
    "        \"p-value\":[ttest]\n",
    "    })\n",
    "    temp[\"Test Type\"] = np.where((ntA == False) & (ntB == False), \"Parametric\", \"Non-Parametric\")\n",
    "    temp[\"AB Hypothesis\"] = np.where(temp[\"AB Hypothesis\"] == False, \"Fail to Reject H0\", \"Reject H0\")\n",
    "    temp[\"Comment\"] = np.where(temp[\"AB Hypothesis\"] == \"Fail to Reject H0\", \"A/B groups are similar!\", \"A/B groups are not similar!\")\n",
    "    \n",
    "    # Columns\n",
    "    if (ntA == False) & (ntB == False):\n",
    "        temp[\"Homogeneity\"] = np.where(leveneTest == False, \"Yes\", \"No\")\n",
    "        temp = temp[[\"Test Type\", \"Homogeneity\",\"AB Hypothesis\", \"p-value\", \"Comment\"]]\n",
    "    else:\n",
    "        temp = temp[[\"Test Type\",\"AB Hypothesis\", \"p-value\", \"Comment\"]]\n",
    "    \n",
    "    # Print Hypothesis\n",
    "    print(\"# A/B Testing Hypothesis\")\n",
    "    print(\"H0: A == B\")\n",
    "    print(\"H1: A != B\", \"\\n\")\n",
    "    \n",
    "    return temp\n",
    "    \n",
    "    \n",
    "    \n",
    "# Apply A/B Testing\n",
    "AB_Test()"
   ]
  },
  {
   "cell_type": "markdown",
   "id": "b9a5629c-b864-4014-a733-27f09f9e76e5",
   "metadata": {},
   "source": [
    "#### ПОПРОБУЕМ УМЕНЬШИТЬ ДИСПЕРСИЮ CUPED"
   ]
  },
  {
   "cell_type": "code",
   "execution_count": 128,
   "id": "6b414df1-3de2-46d7-b0cc-51cfaee8ad47",
   "metadata": {},
   "outputs": [
    {
     "name": "stdout",
     "output_type": "stream",
     "text": [
      "0.0007538116168093438\n",
      "Std в контроле = 722.2629108026944\n",
      "Std в контроле КУПЕД = 499.4087850827069\n",
      "Std в тесте = 717.457499087946\n",
      "Std в тесте КУПЕД = 508.6776237910147\n"
     ]
    }
   ],
   "source": [
    "df_new = dfp_inc.rename(columns={'total_purchase_amount': 'metric'})\n",
    "df_new['metric'].values\n",
    "\n",
    "def add_covariate(df, corr, mean, sigma, sample_size, random_state=None):\n",
    "    \"\"\"\n",
    "    Добавляет ковариату к случайной подвыборке из DataFrame с целевой метрикой.\n",
    "\n",
    "    Параметры:\n",
    "        df (pd.DataFrame): DataFrame с целевой метрикой (столбец 'metric').\n",
    "        corr (float): Корреляция между целевой метрикой и ковариатой.\n",
    "        mean (float): Среднее значение ковариаты (по умолчанию 2000).\n",
    "        sigma (float): Стандартное отклонение ковариаты (по умолчанию 300).\n",
    "        sample_size (int): Размер выборки (по умолчанию 1000).\n",
    "        random_state (int, optional): Seed для воспроизводимости.\n",
    "\n",
    "    Возвращает:\n",
    "        pd.DataFrame: Новый DataFrame с добавленным столбцом 'covariate'.\n",
    "    \"\"\"\n",
    "    # Берем случайную подвыборку\n",
    "    df_sample = df.sample(n=int(sample_size), random_state=random_state)\n",
    "    \n",
    "    # Извлекаем целевую метрику\n",
    "    metric = df_sample['metric'].values\n",
    "    \n",
    "    # Генерируем ковариату с заданной корреляцией\n",
    "    covariate = corr * metric + np.sqrt(1 - corr**2) * np.random.normal(mean, sigma, len(metric))\n",
    "    \n",
    "    # Добавляем ковариату в DataFrame\n",
    "    df_sample['covariate'] = covariate\n",
    "    return df_sample\n",
    "\n",
    "def generate_data(sample_size, corr, mean=2000, sigma=300):\n",
    "    \"\"\"Генерируем коррелированные данные исходной метрики и ковариаты.\n",
    "    \n",
    "    sample_size - размер выборки\n",
    "    corr - корреляция исходной метрики с ковариатой\n",
    "    mean - среднее значение исходной метрики\n",
    "    sigma - стандартное отклонение исходной метрики\n",
    "\n",
    "    return - pd.DataFrame со столбцами ['metric', 'covariate'],\n",
    "        'metric' - значения исходной метрики,\n",
    "        'covariate' - значения ковариаты.\n",
    "    \"\"\"\n",
    "    means = np.array([mean, mean])\n",
    "    cov = sigma ** 2 * np.array([[1, corr], [corr, 1]])\n",
    "    data = np.random.multivariate_normal(means, cov, sample_size).astype(int)\n",
    "    df = pd.DataFrame({'metric': data[:, 0], 'covariate': data[:, 1]})\n",
    "    return df\n",
    "\n",
    "def calculate_theta(metrics, covariates):\n",
    "    \"\"\"Вычисляем Theta.\n",
    "\n",
    "    metrics - значения исходной метрики\n",
    "    covariates - значения ковариаты\n",
    "\n",
    "    return - theta.\n",
    "    \"\"\"\n",
    "    covariance = np.cov(covariates, metrics)[0, 1]\n",
    "    variance = covariates.var()\n",
    "    theta = covariance / variance\n",
    "    return theta\n",
    "\n",
    "def check_ttest(df_control, df_pilot):\n",
    "    \"\"\"Проверяет гипотезу о равенстве средних с помощью t-test.\n",
    "\n",
    "    return - pvalue.\n",
    "    \"\"\"\n",
    "    values_control = df_control['metric'].values\n",
    "    values_pilot = df_pilot['metric'].values\n",
    "    _, pvalue = ttest_ind(values_control, values_pilot)\n",
    "    return pvalue\n",
    "\n",
    "def check_cuped(df_control, df_pilot, df_theta):\n",
    "    \"\"\"Проверяет гипотезу о равенстве средних с использованием CUPED.\n",
    "    \n",
    "    df_control и df_pilot - данные контрольной и экспериментальной групп\n",
    "    df_theta - данные для оценки theta\n",
    "\n",
    "    return - pvalue.\n",
    "    \"\"\"\n",
    "    theta = calculate_theta(df_theta['metric'], df_theta['covariate'])\n",
    "    metric_cuped_control = df_control['metric'] - theta * df_control['covariate']\n",
    "    metric_cuped_pilot = df_pilot['metric'] - theta * df_pilot['covariate']\n",
    "    df_control['metric_cuped'] = df_control['metric'] - theta * df_control['covariate']\n",
    "    df_pilot['metric_cuped'] = df_pilot['metric'] - theta * df_pilot['covariate']\n",
    "    _, pvalue = ttest_ind(metric_cuped_control, metric_cuped_pilot)\n",
    "    return pvalue\n",
    "\n",
    "\n",
    "#sample_size = 1000      # размер групп\n",
    "corr = 0.7             # корреляция ковариаты с целевой метрикой\n",
    "#effect = 20             # размер эффекта\n",
    "\n",
    "df_control = add_covariate(df_new, corr, mu_control, std,sample_size1)\n",
    "df_pilot = add_covariate(df_new, corr, mu_control, std,sample_size1)\n",
    "df_pilot['metric'] += md_effect\n",
    "\n",
    "\n",
    "df_theta = pd.concat([df_control, df_pilot])\n",
    "\n",
    "pvalue_cuped = check_cuped(df_control, df_pilot, df_theta)\n",
    "\n",
    "print(pvalue_cuped)\n",
    "print('Std в контроле =',df_control.metric.std())\n",
    "print('Std в контроле КУПЕД =',df_control.metric_cuped.std())\n",
    "print('Std в тесте =',df_pilot.metric.std())\n",
    "print('Std в тесте КУПЕД =',df_pilot.metric_cuped.std())"
   ]
  },
  {
   "cell_type": "markdown",
   "id": "9a88c6f5-e815-45b8-a658-feb79af3aa15",
   "metadata": {},
   "source": [
    "# RATIO\n",
    "В самом начале создавали датафрейм с общей суммой покупок на клиента и датафрейм с кол-вом покупок на клиента.\n",
    "Объединим датафреймы и рассчитаем средний чек"
   ]
  },
  {
   "cell_type": "code",
   "execution_count": 176,
   "id": "7dff33f1-7827-47a3-9491-b2b8d1349106",
   "metadata": {},
   "outputs": [
    {
     "name": "stdout",
     "output_type": "stream",
     "text": [
      "rows count = 90026 \n",
      "    client_id  total_purchase_amount  bucket_id  total_purchase_count  \\\n",
      "0          1                1261.40         90                     6   \n",
      "1          2                 967.17         53                     3   \n",
      "2          3                1770.06         62                     7   \n",
      "3          4                1382.90         99                     4   \n",
      "4          5                2482.11         58                     6   \n",
      "\n",
      "          aov  \n",
      "0  210.233333  \n",
      "1  322.390000  \n",
      "2  252.865714  \n",
      "3  345.725000  \n",
      "4  413.685000  \n",
      "aov mean = 252.97857665902686\n"
     ]
    }
   ],
   "source": [
    "dfp_full = pd.merge(dfp_inc, dfp_cnt, on='client_id', how='inner')\n",
    "dfp_full['aov'] = dfp_full.total_purchase_amount/dfp_full.total_purchase_count\n",
    "print('rows count =',len(dfp_full),'\\n', dfp_full.head(5))\n",
    "print('aov mean =', dfp_full.aov.mean())"
   ]
  },
  {
   "cell_type": "markdown",
   "id": "ee816574-be37-4409-b153-e23d2191a834",
   "metadata": {},
   "source": [
    "### Считаем размер выборки\n",
    "Устанавливаем основные параметры"
   ]
  },
  {
   "cell_type": "code",
   "execution_count": 240,
   "id": "a30d0a06-0204-4ef1-ad88-7a3e61dff0ea",
   "metadata": {},
   "outputs": [
    {
     "name": "stdout",
     "output_type": "stream",
     "text": [
      "mean = 252.97857665902686\n",
      "std = 79.94619270076731\n",
      "absolute effect = 12.648928832951343\n",
      "mean pilot = 265.6275054919782\n",
      "abs num effect = 63.40572134161243\n"
     ]
    }
   ],
   "source": [
    "# Параметры\n",
    "alpha = 0.05  # уровень значимостиal\n",
    "beta = 0.2   # 1 - мощность теста\n",
    "effect_size = 0.05  # МДЕ в процентах\n",
    "mu_control = dfp_full.aov.mean()  # средняя выручка\n",
    "md_effect_ratio = mu_control * effect_size # МДЕ в абсолютных единицах\n",
    "std = dfp_full.aov.std()  # стандартное отклонение\n",
    "mu_pilot = mu_control + md_effect  # средняя выручка с пользователя в экспериментальной группе\n",
    "\n",
    "md_effect_num = dfp_full.total_purchase_amount.mean() * effect_size\n",
    "\n",
    "print('mean =',mu_control)\n",
    "print('std =', std)\n",
    "print('absolute effect =',md_effect)\n",
    "print('mean pilot =',mu_pilot)\n",
    "print('abs num effect =',md_effect_num)"
   ]
  },
  {
   "cell_type": "markdown",
   "id": "5d3a11dd-637e-468e-994a-57b0eab33a72",
   "metadata": {},
   "source": [
    "#### По формуле, как для средних"
   ]
  },
  {
   "cell_type": "code",
   "execution_count": 186,
   "id": "8401f270-e6e2-4be5-b3a9-2806c273697e",
   "metadata": {},
   "outputs": [
    {
     "name": "stdout",
     "output_type": "stream",
     "text": [
      "оценка необходимого размера групп = 627\n"
     ]
    }
   ],
   "source": [
    "def estimate_sample_size(effect, std, alpha, beta):\n",
    "    \"\"\"Оценка необходимого размер групп.\"\"\"\n",
    "    t_alpha = norm.ppf(1 - alpha / 2, loc=0, scale=1)\n",
    "    t_beta = norm.ppf(1 - beta, loc=0, scale=1)\n",
    "    var = 2 * std ** 2\n",
    "    sample_size = int((t_alpha + t_beta) ** 2 * var / (effect ** 2))\n",
    "    return sample_size\n",
    "\n",
    "#cohen_d = effect / std\n",
    "\n",
    "sample_size_ratio1 = estimate_sample_size(md_effect, std, alpha, beta)\n",
    "\n",
    "print(f'оценка необходимого размера групп = {sample_size_ratio1}')"
   ]
  },
  {
   "cell_type": "markdown",
   "id": "9f6204e0-e815-4210-aea8-6cd469c22981",
   "metadata": {},
   "source": [
    "#### ЧАТГПТ\n",
    "что предложил гпт для ratio"
   ]
  },
  {
   "cell_type": "code",
   "execution_count": 222,
   "id": "32786d67-a5cb-4b3a-aef6-9d252fcb89ef",
   "metadata": {},
   "outputs": [],
   "source": [
    "mu_num = dfp_full.total_purchase_amount.mean()\n",
    "mu_denom = dfp_full.total_purchase_count.mean()\n",
    "sigma_num = dfp_full.total_purchase_amount.std()\n",
    "sigma_denom = dfp_full.total_purchase_count.std()\n",
    "rho = dfp_full['total_purchase_amount'].corr(dfp_full['total_purchase_count']) # корреляция\n",
    "delta = 0.05  # 5% MDE"
   ]
  },
  {
   "cell_type": "code",
   "execution_count": 226,
   "id": "4efd1616-a2e4-45d5-9bcf-df4e9a76ecb4",
   "metadata": {},
   "outputs": [
    {
     "name": "stdout",
     "output_type": "stream",
     "text": [
      "Необходимый размер выборки: 201\n"
     ]
    }
   ],
   "source": [
    "def sample_size_ratio(mu_num, mu_denom, sigma_num, sigma_denom, rho, delta, alpha=0.05, beta=0.2):\n",
    "    \"\"\"Вычисляет размер выборки для ratio-метрики.\"\"\"\n",
    "    \n",
    "    # Z-значения для alpha и beta\n",
    "    Z_alpha = norm.ppf(1 - alpha / 2)\n",
    "    Z_beta = norm.ppf(1 - beta)\n",
    "    \n",
    "    # Дисперсия ratio\n",
    "    S2 = (sigma_num**2 - 2 * rho * sigma_num * sigma_denom * (mu_num / mu_denom) +\n",
    "          sigma_denom**2 * (mu_num / mu_denom)**2) / mu_denom**2\n",
    "    \n",
    "    # Формула размера выборки\n",
    "    N = ((Z_alpha + Z_beta)**2 * S2) / delta**2\n",
    "    \n",
    "    return int(np.ceil(N))\n",
    "\n",
    "\n",
    "sample_size_ratio2 = sample_size_ratio(mu_num, mu_denom, sigma_num, sigma_denom, rho, md_effect)\n",
    "print(\"Необходимый размер выборки:\", sample_size_ratio2)"
   ]
  },
  {
   "cell_type": "markdown",
   "id": "ce081b8b-bfcf-4a8f-9141-ebf931722d82",
   "metadata": {},
   "source": [
    "#### ДИПСИК\n",
    "что предложил дипсик для ratio"
   ]
  },
  {
   "cell_type": "code",
   "execution_count": 228,
   "id": "46673339-c4d6-41b9-bb96-1e2ff321b05d",
   "metadata": {},
   "outputs": [
    {
     "name": "stdout",
     "output_type": "stream",
     "text": [
      "Размер выборки: 8131\n"
     ]
    }
   ],
   "source": [
    "\n",
    "def calculate_sample_size_ratio(mean_num, var_num, mean_denom, var_denom, effect_size, alpha=0.05, power=0.8):\n",
    "    \"\"\"\n",
    "    Расчет размера выборки для ratio-метрик.\n",
    "\n",
    "    Параметры:\n",
    "        mean_num (float): Среднее значение числителя.\n",
    "        var_num (float): Дисперсия числителя.\n",
    "        mean_denom (float): Среднее значение знаменателя.\n",
    "        var_denom (float): Дисперсия знаменателя.\n",
    "        effect_size (float): Ожидаемый эффект (разница в ratio).\n",
    "        alpha (float): Уровень значимости (по умолчанию 0.05).\n",
    "        power (float): Мощность (по умолчанию 0.8).\n",
    "\n",
    "    Возвращает:\n",
    "        int: Размер выборки.\n",
    "    \"\"\"\n",
    "    # Критические значения\n",
    "    z_alpha = norm.ppf(1 - alpha / 2)\n",
    "    z_beta = norm.ppf(power)\n",
    "    \n",
    "    # Ожидаемое значение ratio\n",
    "    R = mean_num / mean_denom\n",
    "    \n",
    "    # Расчет размера выборки\n",
    "    numerator = (z_alpha + z_beta) ** 2 * (var_num + R ** 2 * var_denom)\n",
    "    denominator = effect_size ** 2\n",
    "    sample_size = numerator / denominator\n",
    "    \n",
    "    return int(np.ceil(sample_size))\n",
    "\n",
    "\n",
    "sample_size_ratio2 = calculate_sample_size_ratio(mu_num, sigma_num, mu_denom, sigma_denom, md_effect)\n",
    "print(f\"Размер выборки: {sample_size_ratio2}\")"
   ]
  },
  {
   "cell_type": "markdown",
   "id": "c11d5a2c-acbf-48be-8327-57a1e3642f0b",
   "metadata": {},
   "source": [
    "#### БУТСТРАП\n",
    "Какая-то хуйня получилась через нейронки,   \n",
    "хз Попробуем бутстрапом, взятым с Хабра"
   ]
  },
  {
   "cell_type": "code",
   "execution_count": 338,
   "id": "c02da61c-514c-4c79-bebc-fccc58303c0a",
   "metadata": {},
   "outputs": [
    {
     "name": "stderr",
     "output_type": "stream",
     "text": [
      "100%|████████████████████████████████████████████████████████████████████████████████████| 9/9 [00:33<00:00,  3.70s/it]\n"
     ]
    },
    {
     "data": {
      "text/html": [
       "<div>\n",
       "<style scoped>\n",
       "    .dataframe tbody tr th:only-of-type {\n",
       "        vertical-align: middle;\n",
       "    }\n",
       "\n",
       "    .dataframe tbody tr th {\n",
       "        vertical-align: top;\n",
       "    }\n",
       "\n",
       "    .dataframe thead th {\n",
       "        text-align: right;\n",
       "    }\n",
       "</style>\n",
       "<table border=\"1\" class=\"dataframe\">\n",
       "  <thead>\n",
       "    <tr style=\"text-align: right;\">\n",
       "      <th></th>\n",
       "      <th>minimum_lift</th>\n",
       "      <th>mde</th>\n",
       "      <th>n_items</th>\n",
       "      <th>users</th>\n",
       "    </tr>\n",
       "  </thead>\n",
       "  <tbody>\n",
       "    <tr>\n",
       "      <th>0</th>\n",
       "      <td>6.676488</td>\n",
       "      <td>0.081846</td>\n",
       "      <td>2</td>\n",
       "      <td>917</td>\n",
       "    </tr>\n",
       "    <tr>\n",
       "      <th>1</th>\n",
       "      <td>4.801064</td>\n",
       "      <td>0.059943</td>\n",
       "      <td>3</td>\n",
       "      <td>1811</td>\n",
       "    </tr>\n",
       "    <tr>\n",
       "      <th>2</th>\n",
       "      <td>3.840950</td>\n",
       "      <td>0.047469</td>\n",
       "      <td>4</td>\n",
       "      <td>2687</td>\n",
       "    </tr>\n",
       "    <tr>\n",
       "      <th>3</th>\n",
       "      <td>3.769275</td>\n",
       "      <td>0.046779</td>\n",
       "      <td>5</td>\n",
       "      <td>3607</td>\n",
       "    </tr>\n",
       "    <tr>\n",
       "      <th>4</th>\n",
       "      <td>2.380025</td>\n",
       "      <td>0.029948</td>\n",
       "      <td>10</td>\n",
       "      <td>8131</td>\n",
       "    </tr>\n",
       "    <tr>\n",
       "      <th>5</th>\n",
       "      <td>1.772084</td>\n",
       "      <td>0.022040</td>\n",
       "      <td>20</td>\n",
       "      <td>17206</td>\n",
       "    </tr>\n",
       "    <tr>\n",
       "      <th>6</th>\n",
       "      <td>1.375804</td>\n",
       "      <td>0.017286</td>\n",
       "      <td>30</td>\n",
       "      <td>26164</td>\n",
       "    </tr>\n",
       "    <tr>\n",
       "      <th>7</th>\n",
       "      <td>1.209477</td>\n",
       "      <td>0.015189</td>\n",
       "      <td>40</td>\n",
       "      <td>35102</td>\n",
       "    </tr>\n",
       "    <tr>\n",
       "      <th>8</th>\n",
       "      <td>1.075785</td>\n",
       "      <td>0.013481</td>\n",
       "      <td>50</td>\n",
       "      <td>43986</td>\n",
       "    </tr>\n",
       "  </tbody>\n",
       "</table>\n",
       "</div>"
      ],
      "text/plain": [
       "   minimum_lift       mde  n_items  users\n",
       "0      6.676488  0.081846        2    917\n",
       "1      4.801064  0.059943        3   1811\n",
       "2      3.840950  0.047469        4   2687\n",
       "3      3.769275  0.046779        5   3607\n",
       "4      2.380025  0.029948       10   8131\n",
       "5      1.772084  0.022040       20  17206\n",
       "6      1.375804  0.017286       30  26164\n",
       "7      1.209477  0.015189       40  35102\n",
       "8      1.075785  0.013481       50  43986"
      ]
     },
     "execution_count": 338,
     "metadata": {},
     "output_type": "execute_result"
    }
   ],
   "source": [
    "# #srednie\n",
    "# def bootstrap(test, control, iterations = 1000):\n",
    "#   iterations = iterations\n",
    "#   size = min(len(test), len(control))\n",
    "#   t_boots = [random.choices(test, weights=None, k=size) for _ in range(iterations)]\n",
    "#   c_boots = [random.choices(control, weights=None, k=size) for _ in range(iterations)]\n",
    "#   return t_boots, c_boots\n",
    "#ratio\n",
    "def bootstrap_ratio(test, control, iterations = 1000):\n",
    "  iterations = iterations\n",
    "  t_boots = [random.choices(test, weights=None, k=len(test)) for _ in range(iterations)]\n",
    "  c_boots = [random.choices(control, weights=None, k=len(control)) for _ in range(iterations)]\n",
    "  return t_boots, c_boots\n",
    "\n",
    "### 1. Функции аггрегации\n",
    "def agg_sum(array):\n",
    "  return [sum(i) for i in array]\n",
    "\n",
    "def agg_avg(array):\n",
    "  return [sum(i)/len(i) for i in array]\n",
    "\n",
    "def agg_median(array):\n",
    "  return [np.median(i) for i in array]\n",
    "\n",
    "\n",
    "### 2. Функции расчета статистики\n",
    "def diff(test, control):\n",
    "  return [test_i - control_i for (test_i,control_i) in zip(test,control)]\n",
    "\n",
    "def compare(test, control):\n",
    "  return [test_i/control_i for (test_i,control_i) in zip(test,control)]\n",
    "\n",
    "def perc_compare(test, control):\n",
    "  return [(test_i/control_i-1)*100 for (test_i,control_i) in zip(test,control)]\n",
    "  \n",
    "# Процент из генеральной совокупности\n",
    "slices = [2,3,4,5,10,20,30,40,50]\n",
    "minimum_lift = []\n",
    "mde = []\n",
    "n_items = []\n",
    "users = []\n",
    "\n",
    "#dfp_inc['bucket_id'] = np.random.randint(1, 101, size=len(dfp_inc))  # Разбиение на 100 бакетов случайно\n",
    "\n",
    "for i in tqdm(slices):\n",
    "  test = dfp_full[dfp_full['bucket_id']<i]['aov'].to_list()\n",
    "  control = dfp_full[(dfp_full['bucket_id']>=i) &\\\n",
    "                  (dfp_full['bucket_id']<2*i)]['aov'].to_list()\n",
    "  t_list, c_list = bootstrap_ratio(test, control)\n",
    "  # Разница средних\n",
    "  result = diff(agg_avg(t_list), agg_avg(c_list))\n",
    "  minimum_lift.append((np.quantile(result, 0.975) - np.quantile(result, 0.025))/2)\n",
    "  mde.append( minimum_lift[-1]/np.std(c_list))  \n",
    "  n_items.append(i)\n",
    "  users.append(min(len(test), len(control)))\n",
    "\n",
    "#Вывод таблицы с mde \n",
    "pd.DataFrame({'minimum_lift': minimum_lift, 'mde': mde,\n",
    "              'n_items': n_items, 'users': users})  \n",
    "    "
   ]
  },
  {
   "cell_type": "markdown",
   "id": "1bcca929-6837-4510-847e-685d7a2e20e1",
   "metadata": {},
   "source": [
    "### Формируем группы\n",
    "Пока не понятно как правильно считать размер выборок. Используем размер выборки расчитанный "
   ]
  },
  {
   "cell_type": "code",
   "execution_count": 361,
   "id": "08e43b66-3e19-479e-9fca-4f8fd7c3a8e9",
   "metadata": {},
   "outputs": [
    {
     "name": "stdout",
     "output_type": "stream",
     "text": [
      "Контрольная группа:\n",
      "client_id                50093.626794\n",
      "total_purchase_amount     1290.854769\n",
      "bucket_id                   52.465710\n",
      "total_purchase_count         5.114833\n",
      "aov                        249.431883\n",
      "dtype: float64\n",
      "\n",
      "Тестовая группа:\n",
      "client_id                50562.692185\n",
      "total_purchase_amount     1340.902452\n",
      "bucket_id                   50.043062\n",
      "total_purchase_count         5.062201\n",
      "aov                        251.838637\n",
      "dtype: float64\n"
     ]
    },
    {
     "name": "stderr",
     "output_type": "stream",
     "text": [
      "C:\\Users\\junte\\AppData\\Local\\Temp\\ipykernel_12420\\2297527764.py:8: SettingWithCopyWarning: \n",
      "A value is trying to be set on a copy of a slice from a DataFrame.\n",
      "Try using .loc[row_indexer,col_indexer] = value instead\n",
      "\n",
      "See the caveats in the documentation: https://pandas.pydata.org/pandas-docs/stable/user_guide/indexing.html#returning-a-view-versus-a-copy\n",
      "  df_pilot.total_purchase_amount += md_effect_num  # добавляем 5% эффект\n"
     ]
    }
   ],
   "source": [
    "df_shuffled = dfp_full.sample(frac=1).reset_index(drop=True)\n",
    "\n",
    "# Разделяем на контрольную и тестовую группу\n",
    "df_control = df_shuffled[:627]  # первые 627 строк - контроль\n",
    "df_pilot = df_shuffled[627:1254]  # следующие 627 строк - тест\n",
    "\n",
    "# Добавляем эффект 5% к числителю в тестовой группе\n",
    "df_pilot.total_purchase_amount += md_effect_num  # добавляем 5% эффект\n",
    "\n",
    "\n",
    "print(\"Контрольная группа:\")\n",
    "print(df_control.mean())\n",
    "print(\"\\nТестовая группа:\")\n",
    "print(df_pilot.mean())"
   ]
  },
  {
   "cell_type": "markdown",
   "id": "7e2a1000-19d4-457b-8fd9-2ee4295ff394",
   "metadata": {},
   "source": [
    "## Статзначимость\n",
    "### Бутстрапируем"
   ]
  },
  {
   "cell_type": "code",
   "execution_count": 363,
   "id": "4b3beeec-3557-485b-968f-2db8ea062e7b",
   "metadata": {},
   "outputs": [
    {
     "name": "stdout",
     "output_type": "stream",
     "text": [
      "0.0003851198715138895\n"
     ]
    }
   ],
   "source": [
    "\n",
    "def to_np_array(*arrays):\n",
    "    res = [np.array(arr, dtype='float') for arr in arrays]\n",
    "    return res if len(res)>1 else res[0]\n",
    "\n",
    "\n",
    "# num_t, num_c are arrays of user signals for numerator at groups\n",
    "# denom_t, denom_c are arrays of user signals for denominator at groups\n",
    "def bootstrap_ratio(num_t, denom_t, num_с, denom_c, n_trials=5000):\n",
    "    num_t, denom_t, num_с, denom_c = to_np_array(num_t, denom_t, num_с, denom_c)\n",
    "    rng = np.random.default_rng()\n",
    "    ratio_diff_distrib = []\n",
    "\n",
    "    # booted iters\n",
    "    for _ in range(n_trials):\n",
    "        users_idx_t = rng.choice(np.arange(0, len(num_t)), size=len(num_t))\n",
    "        boot_num_t = num_t[users_idx_t]\n",
    "        boot_denom_t = denom_t[users_idx_t]\n",
    "        ratio_t = boot_num_t.sum() / boot_denom_t.sum()\n",
    "\n",
    "        users_idx_c = rng.choice(np.arange(0, len(num_с)), size=len(num_с))\n",
    "        boot_num_с = num_с[users_idx_c]\n",
    "        boot_denom_c = denom_c[users_idx_c]\n",
    "        ratio_c = boot_num_с.sum() / boot_denom_c.sum()\n",
    "\n",
    "        ratio_diff_distrib.append(ratio_t - ratio_c)\n",
    "    \n",
    "    # p_value\n",
    "    mean = np.mean(ratio_diff_distrib)\n",
    "    se = np.std(ratio_diff_distrib)\n",
    "    quant = norm.cdf(x=0, loc=mean, scale=se)\n",
    "    p_value = quant * 2 if 0 < mean else (1 - quant) * 2\n",
    "    \n",
    "    return p_value\n",
    "\n",
    "print(bootstrap_ratio(df_pilot.total_purchase_amount, df_pilot.total_purchase_count, df_control.total_purchase_amount, df_control.total_purchase_count, n_trials=5_000))"
   ]
  },
  {
   "cell_type": "markdown",
   "id": "22479366-6192-42cd-88a9-9df3a9af230e",
   "metadata": {},
   "source": [
    "#### Дельта-метод"
   ]
  },
  {
   "cell_type": "code",
   "execution_count": 365,
   "id": "92789069-cb44-4b74-806a-ff53d0a5d9db",
   "metadata": {},
   "outputs": [
    {
     "name": "stdout",
     "output_type": "stream",
     "text": [
      "0.00034569758059199707\n"
     ]
    }
   ],
   "source": [
    "def to_np_array(*arrays):\n",
    "    res = [np.array(arr, dtype='float') for arr in arrays]\n",
    "    return res if len(res)>1 else res[0]\n",
    "\n",
    "\n",
    "# num_t, num_c are arrays of user signals for numerator at groups\n",
    "# denom_t, denom_c are arrays of user signals for denominator at groups\n",
    "def delta_method(num_t, denom_t, num_c, denom_c):\n",
    "    def est_ratio_var(num, denom):\n",
    "        mean_num, mean_denom = np.mean(num), np.mean(denom)\n",
    "        var_num, var_denom = np.var(num), np.var(denom)\n",
    "        cov = np.cov(num, denom)[0, 1]\n",
    "        # main formula for estimating variance of ratio-metric\n",
    "        ratio_var = (\n",
    "            (var_num / mean_denom**2)\n",
    "            - (2 * (mean_num / mean_denom**3) * cov)\n",
    "            + ((mean_num**2 / mean_denom**4) * var_denom)\n",
    "        )\n",
    "        return ratio_var\n",
    "    \n",
    "    num_t, denom_t, num_c, denom_c = to_np_array(num_t, denom_t, num_c, denom_c)\n",
    "    \n",
    "    ratio_t, ratio_c = num_t.sum()/denom_t.sum(), num_c.sum()/denom_c.sum()\n",
    "    var_t, var_c = est_ratio_var(num_t, denom_t), est_ratio_var(num_c, denom_c)\n",
    "    n_t, n_c = len(num_t), len(num_c)\n",
    "\n",
    "    uplift = ratio_t - ratio_c\n",
    "    se = np.sqrt(var_t/n_t + var_c/n_c)\n",
    "    \n",
    "    t = uplift / se\n",
    "    p_value = (1 - norm.cdf(abs(t))) * 2\n",
    "    return p_value\n",
    "    \n",
    "print(delta_method(df_pilot.total_purchase_amount, df_pilot.total_purchase_count, df_control.total_purchase_amount, df_control.total_purchase_count))"
   ]
  },
  {
   "cell_type": "markdown",
   "id": "1343e5d6-c4dc-429e-b98e-3bc80642b7d2",
   "metadata": {},
   "source": [
    "#### Линеаризация"
   ]
  },
  {
   "cell_type": "code",
   "execution_count": null,
   "id": "22faa3ac-189d-4049-8e45-4f760e9994a7",
   "metadata": {},
   "outputs": [],
   "source": [
    "is_cntrl = user_df.group=='c'\n",
    "\n",
    "AOV_cntrl = user_df[is_cntrl].spend.sum() / user_df[is_cntrl].n_order.sum()\n",
    "user_df['lin_aov'] = user_df.spend - AOV_cntrl * user_df.n_order\n",
    "\n",
    "CTR_cntrl = user_df[is_cntrl].n_bnr_clkd.sum() / user_df[is_cntrl].n_bnr_vwd.sum()\n",
    "user_df['lin_ctr'] = user_df.n_bnr_clkd - CTR_cntrl * user_df.n_bnr_vwd"
   ]
  }
 ],
 "metadata": {
  "kernelspec": {
   "display_name": "Python 3 (ipykernel)",
   "language": "python",
   "name": "python3"
  },
  "language_info": {
   "codemirror_mode": {
    "name": "ipython",
    "version": 3
   },
   "file_extension": ".py",
   "mimetype": "text/x-python",
   "name": "python",
   "nbconvert_exporter": "python",
   "pygments_lexer": "ipython3",
   "version": "3.12.4"
  }
 },
 "nbformat": 4,
 "nbformat_minor": 5
}
