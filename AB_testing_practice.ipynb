{
 "cells": [
  {
   "cell_type": "code",
   "execution_count": 66,
   "id": "41a05997-8d61-4a2c-98db-886cba1674b0",
   "metadata": {},
   "outputs": [],
   "source": [
    "import pandas as pd\n",
    "import random\n",
    "import numpy as np\n",
    "import matplotlib.pyplot as plt\n",
    "import seaborn as sns\n",
    "import statsmodels.api as sma\n",
    "from scipy.stats import ttest_1samp, shapiro, levene, ttest_ind, mannwhitneyu, \\\n",
    "    pearsonr, spearmanr, kendalltau, f_oneway, kruskal, norm\n",
    "from statsmodels.stats.proportion import proportions_ztest\n",
    "import statsmodels.stats as sms"
   ]
  },
  {
   "cell_type": "markdown",
   "id": "5035b227-fb1d-4d95-87ee-53a56100334c",
   "metadata": {},
   "source": [
    "Создаем исторические таблицы. \n",
    "Таблица dfp - данные с транзакциями. Столбцы: ИД клиента, сумма покупки, дата покупки.\n",
    "Таблица dfc - клиентские данные. Столбцы: ИД клиента, возраст, пол, регион, годовой доход, флаг лояльности."
   ]
  },
  {
   "cell_type": "code",
   "execution_count": 17,
   "id": "3f79612a-e6a8-4eda-9a00-d87e24facc8c",
   "metadata": {},
   "outputs": [
    {
     "name": "stdout",
     "output_type": "stream",
     "text": [
      "   client_id  purchase_amount purchase_date\n",
      "0          1           196.40    2024-10-23\n",
      "1          1           213.69    2024-10-04\n",
      "2          1           328.97    2024-10-23\n",
      "3          1            74.69    2024-10-31\n",
      "4          1           328.36    2024-10-29\n",
      "   client_id  age  gender region  income  loyalty_score\n",
      "0          1   44    male   West   68313       0.820694\n",
      "1          2   53  female  North   91958       0.295158\n",
      "2          3   63    male  North   60929       0.471122\n",
      "3          4   52    male  South   52136       0.975606\n",
      "4          5   49    male   West  108991       0.572810\n"
     ]
    }
   ],
   "source": [
    "# Устанавливаем параметры генерации данных\n",
    "np.random.seed(42)  # для воспроизводимости\n",
    "num_clients = 100000\n",
    "\n",
    "# Таблица 1: покупки клиентов за октябрь 2024\n",
    "dates_october = pd.date_range(start=\"2024-10-01\", end=\"2024-10-31\")\n",
    "client_ids = np.arange(1, num_clients + 1)\n",
    "num_purchases = np.random.randint(0, 10, size=num_clients)  # число покупок для каждого клиента\n",
    "\n",
    "# Генерация данных о покупках\n",
    "purchase_data = []\n",
    "for client_id, purchases in zip(client_ids, num_purchases):\n",
    "    for _ in range(purchases):\n",
    "        purchase_data.append({\n",
    "            \"client_id\": client_id,\n",
    "            \"purchase_amount\": round(np.random.uniform(5, 500), 2),  # сумма покупки в диапазоне 5-500\n",
    "            \"purchase_date\": np.random.choice(dates_october)  # случайная дата октября\n",
    "        })\n",
    "\n",
    "dfp = pd.DataFrame(purchase_data)\n",
    "print(dfp.head(5))\n",
    "\n",
    "# Таблица 2: клиентские данные\n",
    "dfc = pd.DataFrame({\n",
    "    \"client_id\": client_ids,\n",
    "    \"age\": np.random.randint(18, 70, size=num_clients),  # возраст клиента\n",
    "    \"gender\": np.random.choice([\"male\", \"female\"], size=num_clients),  # пол клиента\n",
    "    \"region\": np.random.choice([\"North\", \"South\", \"East\", \"West\"], size=num_clients),  # регион проживания\n",
    "    \"income\": np.random.randint(20000, 150000, size=num_clients),  # годовой доход\n",
    "    \"loyalty_score\": np.random.uniform(0, 1, size=num_clients)  # уровень лояльности (0-1)\n",
    "})\n",
    "print(dfc.head(5))"
   ]
  },
  {
   "cell_type": "markdown",
   "id": "e8104fbd-57f3-4e20-8906-6b79b44e0aac",
   "metadata": {},
   "source": [
    "Создаем агрегированные таблицы с суммой покупок и кол-вом покупок по клиенту"
   ]
  },
  {
   "cell_type": "code",
   "execution_count": 19,
   "id": "0f96e0ed-713c-4768-904f-bac65cd2fde1",
   "metadata": {},
   "outputs": [
    {
     "name": "stdout",
     "output_type": "stream",
     "text": [
      "   client_id  total_purchase_amount\n",
      "0          1                1261.40\n",
      "1          2                 967.17\n",
      "2          3                1770.06\n",
      "3          4                1382.90\n",
      "4          5                2482.11\n",
      "   client_id  total_purchase_count\n",
      "0          1                     6\n",
      "1          2                     3\n",
      "2          3                     7\n",
      "3          4                     4\n",
      "4          5                     6\n"
     ]
    }
   ],
   "source": [
    "# Группируем по client_id и считаем сумму покупок для каждого клиента\n",
    "dfp_inc = dfp.groupby('client_id')['purchase_amount'].sum().reset_index()\n",
    "# Переименовываем столбец для удобства\n",
    "dfp_inc.rename(columns={'purchase_amount': 'total_purchase_amount'}, inplace=True)\n",
    "\n",
    "# Группируем по client_id и считаем кол-во покупок для каждого клиента\n",
    "dfp_cnt = dfp.groupby('client_id')['purchase_amount'].count().reset_index()\n",
    "# Переименовываем столбец для удобства\n",
    "dfp_cnt.rename(columns={'purchase_amount': 'total_purchase_count'}, inplace=True)\n",
    "\n",
    "# Выводим первые 5 строк для проверки\n",
    "print(dfp_inc.head())\n",
    "print(dfp_cnt.head())"
   ]
  },
  {
   "cell_type": "markdown",
   "id": "9c760c7a-a7fa-470a-9d30-101a6ef24a99",
   "metadata": {},
   "source": [
    "Посмотрим на статистики исторических данных"
   ]
  },
  {
   "cell_type": "code",
   "execution_count": 21,
   "id": "670bf304-b7d8-4b59-a915-70fac3f38925",
   "metadata": {},
   "outputs": [
    {
     "name": "stdout",
     "output_type": "stream",
     "text": [
      "count     90026.000000\n",
      "median     1225.510000\n",
      "mean       1268.114427\n",
      "std         726.981685\n",
      "max        3805.160000\n",
      "Name: total_purchase_amount, dtype: float64\n",
      "count     90026.000000\n",
      "median        5.000000\n",
      "mean          5.015840\n",
      "std           2.581668\n",
      "max           9.000000\n",
      "Name: total_purchase_count, dtype: float64\n"
     ]
    }
   ],
   "source": [
    "print(dfp_inc.total_purchase_amount.agg([\"count\", \"median\", \"mean\", \"std\", \"max\"]))\n",
    "print(dfp_cnt.total_purchase_count.agg([\"count\", \"median\", \"mean\", \"std\", \"max\"]))"
   ]
  },
  {
   "cell_type": "code",
   "execution_count": 22,
   "id": "456f45fd-a0cc-4531-8501-9a272c5e810a",
   "metadata": {},
   "outputs": [
    {
     "data": {
      "image/png": "[encoded data removed]",
      "text/plain": [
       "<Figure size 400x250 with 1 Axes>"
      ]
     },
     "metadata": {},
     "output_type": "display_data"
    }
   ],
   "source": [
    "# Строим гистограмму распределения общей суммы покупок\n",
    "plt.figure(figsize=(4, 2.5))\n",
    "sns.histplot(dfp_inc['total_purchase_amount'], kde=True, bins=50, color='skyblue')\n",
    "\n",
    "# Настройка графика\n",
    "plt.title('Распределение общей суммы покупок по клиентам', fontsize=10)\n",
    "plt.xlabel('Общая сумма покупок', fontsize=10)\n",
    "plt.ylabel('Частота', fontsize=10)\n",
    "plt.grid(True)\n",
    "\n",
    "# Показываем график\n",
    "plt.show()"
   ]
  },
  {
   "cell_type": "code",
   "execution_count": 23,
   "id": "746e067b-5c7e-4ab5-978e-94f9cb9359a4",
   "metadata": {},
   "outputs": [
    {
     "name": "stdout",
     "output_type": "stream",
     "text": [
      "Group A - Test Stat = 0.97520356275802499990135, p-value = 0.00000000000000000000000\n"
     ]
    },
    {
     "name": "stderr",
     "output_type": "stream",
     "text": [
      "C:\\Users\\junte\\anaconda3\\Lib\\site-packages\\scipy\\stats\\_axis_nan_policy.py:531: UserWarning: scipy.stats.shapiro: For N > 5000, computed p-value may not be accurate. Current N is 90026.\n",
      "  res = hypotest_fun_out(*samples, **kwds)\n"
     ]
    }
   ],
   "source": [
    "test_stat_A, pvalue_A = shapiro(dfp_inc.total_purchase_amount)\n",
    "print('Group A - Test Stat = %.23f, p-value = %.23f' % (test_stat_A, pvalue_A))"
   ]
  },
  {
   "cell_type": "markdown",
   "id": "0654876c-3739-4632-9270-3596025f0e57",
   "metadata": {},
   "source": [
    "#### Задаем параметры теста"
   ]
  },
  {
   "cell_type": "code",
   "execution_count": 83,
   "id": "975af02a-fc12-425a-99c8-30f1d618e5ff",
   "metadata": {},
   "outputs": [],
   "source": [
    "# Параметры\n",
    "alpha = 0.05  # уровень значимостиal\n",
    "beta = 0.2   # мощность теста\n",
    "effect_size = 0.045  # МДЕ в процентах\n",
    "mu_control = dfp_inc.total_purchase_amount.mean()  # средняя выручка\n",
    "md_effect = mu_control * effect_size # МДЕ в абсолютных единицах\n",
    "std = dfp_inc.total_purchase_amount.std()  # стандартное отклонение\n",
    "mu_pilot = mu_control + md_effect  # средняя выручка с пользователя в экспериментальной группе\n"
   ]
  },
  {
   "cell_type": "code",
   "execution_count": 93,
   "id": "ab0927cd-0709-4c51-89c2-5d9940dd0572",
   "metadata": {},
   "outputs": [
    {
     "name": "stdout",
     "output_type": "stream",
     "text": [
      "   client_id  total_purchase_amount  bucket_id\n",
      "0          1                1261.40         73\n",
      "1          2                 967.17         99\n",
      "2          3                1770.06         17\n",
      "3          4                1382.90         98\n",
      "4          5                2482.11         17\n",
      "5          6                2584.91         98\n",
      "6          7                  83.76         88\n",
      "7          8                1284.62         70\n",
      "8          9                1724.50         12\n",
      "9         10                 925.19         75\n"
     ]
    }
   ],
   "source": [
    "print(dfp_inc.head(10))"
   ]
  },
  {
   "cell_type": "markdown",
   "id": "b01bc6df-b8c2-455a-8049-2afa8c69bf72",
   "metadata": {},
   "source": [
    "#### Расчет размера выборки с помощью готовых библиотек и cohen_d"
   ]
  },
  {
   "cell_type": "code",
   "execution_count": 85,
   "id": "aa6e0723-fc3d-4158-9045-ab0bd43af6c2",
   "metadata": {},
   "outputs": [
    {
     "name": "stdout",
     "output_type": "stream",
     "text": [
      "mean = 1268.1144268322485\n",
      "std = 726.9816848259933\n",
      "absolute effect = 57.06514920745118\n",
      "Необходимый размер выборки для каждой группы: 2549\n"
     ]
    }
   ],
   "source": [
    "# Расчет эффекта в терминах стандартного отклонения (Cohen's d)\n",
    "cohen_d = md_effect / std \n",
    "\n",
    "# Расчет размера выборки для двухвыборочного t-теста\n",
    "sample_size1 = sms.power.TTestIndPower().solve_power(effect_size=cohen_d, alpha=alpha, power=1-beta, alternative='two-sided')\n",
    "\n",
    "# Вывод размера выборки\n",
    "print('mean =',mu_control)\n",
    "print('std =', std)\n",
    "print('absolute effect =',md_effect)\n",
    "print(f\"Необходимый размер выборки для каждой группы: {round(sample_size1)}\")"
   ]
  },
  {
   "cell_type": "markdown",
   "id": "0dd38b5a-7548-4849-bb03-de88d73bf668",
   "metadata": {},
   "source": [
    "#### Расчет размера выборки по формуле"
   ]
  },
  {
   "cell_type": "code",
   "execution_count": 87,
   "id": "7c8a669b-d2b6-422e-aaaa-d1d4c30f0340",
   "metadata": {},
   "outputs": [
    {
     "name": "stdout",
     "output_type": "stream",
     "text": [
      "оценка необходимого размера групп = 2547\n"
     ]
    }
   ],
   "source": [
    "def estimate_sample_size(effect, std, alpha, beta):\n",
    "    \"\"\"Оценка необходимого размер групп.\"\"\"\n",
    "    t_alpha = norm.ppf(1 - alpha / 2, loc=0, scale=1)\n",
    "    t_beta = norm.ppf(1 - beta, loc=0, scale=1)\n",
    "    var = 2 * std ** 2\n",
    "    sample_size = int((t_alpha + t_beta) ** 2 * var / (effect ** 2))\n",
    "    return sample_size\n",
    "\n",
    "#cohen_d = effect / std\n",
    "\n",
    "sample_size2 = estimate_sample_size(md_effect, std, alpha, beta)\n",
    "#sample_size1 = sms.power.TTestIndPower().solve_power(effect_size=cohen_d, alpha=alpha, power=1-beta, alternative='two-sided')\n",
    " \n",
    "\n",
    "print(f'оценка необходимого размера групп = {sample_size2}')"
   ]
  },
  {
   "cell_type": "markdown",
   "id": "1da4a56a-c4dd-4505-951e-7249de779c2c",
   "metadata": {},
   "source": [
    "#### Расчет размера выборки и МДЕ бутстрапированием"
   ]
  },
  {
   "cell_type": "code",
   "execution_count": 95,
   "id": "72d10b57-dbb8-4960-a83d-83612f868d61",
   "metadata": {},
   "outputs": [
    {
     "data": {
      "text/html": [
       "<div>\n",
       "<style scoped>\n",
       "    .dataframe tbody tr th:only-of-type {\n",
       "        vertical-align: middle;\n",
       "    }\n",
       "\n",
       "    .dataframe tbody tr th {\n",
       "        vertical-align: top;\n",
       "    }\n",
       "\n",
       "    .dataframe thead th {\n",
       "        text-align: right;\n",
       "    }\n",
       "</style>\n",
       "<table border=\"1\" class=\"dataframe\">\n",
       "  <thead>\n",
       "    <tr style=\"text-align: right;\">\n",
       "      <th></th>\n",
       "      <th>minimum_lift</th>\n",
       "      <th>mde</th>\n",
       "      <th>n_items</th>\n",
       "      <th>users</th>\n",
       "    </tr>\n",
       "  </thead>\n",
       "  <tbody>\n",
       "    <tr>\n",
       "      <th>0</th>\n",
       "      <td>32.901871</td>\n",
       "      <td>0.045757</td>\n",
       "      <td>5</td>\n",
       "      <td>3633</td>\n",
       "    </tr>\n",
       "    <tr>\n",
       "      <th>1</th>\n",
       "      <td>22.287502</td>\n",
       "      <td>0.031004</td>\n",
       "      <td>10</td>\n",
       "      <td>8245</td>\n",
       "    </tr>\n",
       "    <tr>\n",
       "      <th>2</th>\n",
       "      <td>15.507564</td>\n",
       "      <td>0.021358</td>\n",
       "      <td>20</td>\n",
       "      <td>17279</td>\n",
       "    </tr>\n",
       "    <tr>\n",
       "      <th>3</th>\n",
       "      <td>12.215728</td>\n",
       "      <td>0.016794</td>\n",
       "      <td>30</td>\n",
       "      <td>26353</td>\n",
       "    </tr>\n",
       "    <tr>\n",
       "      <th>4</th>\n",
       "      <td>10.448576</td>\n",
       "      <td>0.014359</td>\n",
       "      <td>40</td>\n",
       "      <td>35386</td>\n",
       "    </tr>\n",
       "    <tr>\n",
       "      <th>5</th>\n",
       "      <td>9.551281</td>\n",
       "      <td>0.013114</td>\n",
       "      <td>50</td>\n",
       "      <td>44357</td>\n",
       "    </tr>\n",
       "  </tbody>\n",
       "</table>\n",
       "</div>"
      ],
      "text/plain": [
       "   minimum_lift       mde  n_items  users\n",
       "0     32.901871  0.045757        5   3633\n",
       "1     22.287502  0.031004       10   8245\n",
       "2     15.507564  0.021358       20  17279\n",
       "3     12.215728  0.016794       30  26353\n",
       "4     10.448576  0.014359       40  35386\n",
       "5      9.551281  0.013114       50  44357"
      ]
     },
     "execution_count": 95,
     "metadata": {},
     "output_type": "execute_result"
    }
   ],
   "source": [
    "#srednie\n",
    "def bootstrap(test, control, iterations = 10000):\n",
    "  iterations = iterations\n",
    "  size = min(len(test), len(control))\n",
    "  t_boots = [random.choices(test, weights=None, k=size) for _ in range(iterations)]\n",
    "  c_boots = [random.choices(control, weights=None, k=size) for _ in range(iterations)]\n",
    "  return t_boots, c_boots\n",
    "# #ratio\n",
    "# def bootstrap_ratio(test, control, iterations = 1000):\n",
    "#   iterations = iterations\n",
    "#   t_boots = [random.choices(test, weights=None, k=len(test)) for _ in range(iterations)]\n",
    "#   c_boots = [random.choices(control, weights=None, k=len(control)) for _ in range(iterations)]\n",
    "#   return t_boots, c_boots\n",
    "\n",
    "### 1. Функции аггрегации\n",
    "def agg_sum(array):\n",
    "  return [sum(i) for i in array]\n",
    "\n",
    "def agg_avg(array):\n",
    "  return [sum(i)/len(i) for i in array]\n",
    "\n",
    "def agg_median(array):\n",
    "  return [np.median(i) for i in array]\n",
    "\n",
    "\n",
    "### 2. Функции расчета статистики\n",
    "def diff(test, control):\n",
    "  return [test_i - control_i for (test_i,control_i) in zip(test,control)]\n",
    "\n",
    "def compare(test, control):\n",
    "  return [test_i/control_i for (test_i,control_i) in zip(test,control)]\n",
    "\n",
    "def perc_compare(test, control):\n",
    "  return [(test_i/control_i-1)*100 for (test_i,control_i) in zip(test,control)]\n",
    "  \n",
    "# Процент из генеральной совокупности\n",
    "slices = [5,10,20,30,40,50]\n",
    "minimum_lift = []\n",
    "mde = []\n",
    "n_items = []\n",
    "users = []\n",
    "\n",
    "dfp_inc['bucket_id'] = np.random.randint(1, 101, size=len(dfp_inc))  # Разбиение на 100 бакетов случайно\n",
    "\n",
    "for i in slices:\n",
    "  test = dfp_inc[dfp_inc['bucket_id']<i]['total_purchase_amount'].to_list()\n",
    "  control = dfp_inc[(dfp_inc['bucket_id']>=i) &\\\n",
    "                  (dfp_inc['bucket_id']<2*i)]['total_purchase_amount'].to_list()\n",
    "  t_list, c_list = bootstrap(test, control)\n",
    "  # Разница средних\n",
    "  result = diff(agg_avg(t_list), agg_avg(c_list))\n",
    "  minimum_lift.append((np.quantile(result, 0.975) - np.quantile(result, 0.025))/2)\n",
    "  mde.append( minimum_lift[-1]/np.std(c_list))  \n",
    "  n_items.append(i)\n",
    "  users.append(min(len(test), len(control)))\n",
    "\n",
    "#Вывод таблицы с mde \n",
    "pd.DataFrame({'minimum_lift': minimum_lift, 'mde': mde,\n",
    "              'n_items': n_items, 'users': users})  \n",
    "    "
   ]
  },
  {
   "cell_type": "code",
   "execution_count": 100,
   "id": "7214ee2c-02dd-4216-9ebb-40a8b8093767",
   "metadata": {},
   "outputs": [
    {
     "data": {
      "image/png": "[encoded data removed]",
      "text/plain": [
       "<Figure size 700x300 with 1 Axes>"
      ]
     },
     "metadata": {},
     "output_type": "display_data"
    }
   ],
   "source": [
    "plt.figure(figsize=(7,3))\n",
    "plt.hist(result, bins=50)\n",
    "plt.vlines([np.quantile(result,q=0.975),np.quantile(result,q=0.025),\n",
    "            np.quantile(result,q=0.5)],ymin=0,ymax=50,\n",
    "            linestyle='--', color='black')\n",
    "plt.show()"
   ]
  },
  {
   "cell_type": "code",
   "execution_count": 104,
   "id": "e9a1852a-49c5-4bee-b7b1-d6fb76f5eff4",
   "metadata": {},
   "outputs": [
    {
     "name": "stdout",
     "output_type": "stream",
     "text": [
      "3633\n"
     ]
    }
   ],
   "source": [
    "sample_size3 = users[0]\n",
    "print(sample_size3)"
   ]
  },
  {
   "cell_type": "code",
   "execution_count": 106,
   "id": "f8fed89a-25f5-4aca-a5e9-18c43875c50f",
   "metadata": {},
   "outputs": [
    {
     "name": "stdout",
     "output_type": "stream",
     "text": [
      "оценка вероятности ошибки I рода = 0.0496\n",
      "  доверительный интервал = [0.0453, 0.0539]\n",
      "оценка вероятности ошибки II рода = 0.0814\n",
      "  доверительный интервал = [0.0760, 0.0868]\n"
     ]
    }
   ],
   "source": [
    "def run_synthetic_experiments(values, sample_size, effect=0, n_iter=10000):\n",
    "    \"\"\"Проводим синтетические эксперименты, возвращаем список p-value.\"\"\"\n",
    "    pvalues = []\n",
    "    values = values.to_numpy()\n",
    "    for _ in range(n_iter):\n",
    "        a, b = np.random.choice(values, size=(2, int(sample_size),), replace=False)\n",
    "        b += effect\n",
    "        pvalue = ttest_ind(a, b).pvalue\n",
    "        pvalues.append(pvalue)\n",
    "    return np.array(pvalues)\n",
    "\n",
    "def print_estimated_errors(pvalues_aa, pvalues_ab, alpha):\n",
    "    \"\"\"Оценивает вероятности ошибок.\"\"\"\n",
    "    estimated_first_type_error = np.mean(pvalues_aa < alpha)\n",
    "    estimated_second_type_error = np.mean(pvalues_ab >= alpha)\n",
    "    ci_first = estimate_ci_bernoulli(estimated_first_type_error, len(pvalues_aa))\n",
    "    ci_second = estimate_ci_bernoulli(estimated_second_type_error, len(pvalues_ab))\n",
    "    print(f'оценка вероятности ошибки I рода = {estimated_first_type_error:0.4f}')\n",
    "    print(f'  доверительный интервал = [{ci_first[0]:0.4f}, {ci_first[1]:0.4f}]')\n",
    "    print(f'оценка вероятности ошибки II рода = {estimated_second_type_error:0.4f}')\n",
    "    print(f'  доверительный интервал = [{ci_second[0]:0.4f}, {ci_second[1]:0.4f}]')\n",
    "\n",
    "def estimate_ci_bernoulli(p, n, alpha=0.05):\n",
    "    \"\"\"Доверительный интервал для Бернуллиевской случайной величины.\"\"\"\n",
    "    t = norm.ppf(1 - alpha / 2, loc=0, scale=1)\n",
    "    std_n = np.sqrt(p * (1 - p) / n)\n",
    "    return p - t * std_n, p + t * std_n\n",
    "\n",
    "pvalues_aa = run_synthetic_experiments(dfp_inc.total_purchase_amount, sample_size3, effect=0)\n",
    "pvalues_ab = run_synthetic_experiments(dfp_inc.total_purchase_amount, sample_size3, effect=md_effect)\n",
    "print_estimated_errors(pvalues_aa, pvalues_ab, alpha)"
   ]
  },
  {
   "cell_type": "code",
   "execution_count": null,
   "id": "d30d6277-4bd8-4a27-9ef6-7059b4d6290a",
   "metadata": {},
   "outputs": [],
   "source": [
    "pvalues = []\n",
    "for _ in range(10000):\n",
    "    a = np.random.choice(values, size=int(sample_size), replace=False)\n",
    "    b = np.random.choice(values, size=int(sample_size), replace=False)\n",
    "    b = b+md_effect\n",
    "    #pvalue = ttest_ind(a, b).pvalue\n",
    "    pvalue = mannwhitneyu(a, b).pvalue\n",
    "    #print(stats.ttest_ind(a, b).pvalue)\n",
    "    pvalues.append(pvalue)"
   ]
  },
  {
   "cell_type": "code",
   "execution_count": null,
   "id": "ce5425fd-f17c-470c-ab73-cc559c16e301",
   "metadata": {},
   "outputs": [],
   "source": [
    "np.mean(np.array(pvalues) < 0.05)"
   ]
  },
  {
   "cell_type": "markdown",
   "id": "5bbfa779-f54d-438d-ac01-4c97538b9c1d",
   "metadata": {},
   "source": [
    "Переходим к формированию групп.\n",
    "Для формирования максимально похожих групп воспользуемся методом кластеризации."
   ]
  },
  {
   "cell_type": "code",
   "execution_count": null,
   "id": "4a3146ef-b58c-4fd1-88ef-b68bc25b8032",
   "metadata": {},
   "outputs": [],
   "source": [
    "from sklearn.cluster import KMeans\n",
    "from sklearn.preprocessing import StandardScaler\n",
    "import random\n",
    "\n",
    "# Загружаем данные о клиентах\n",
    "\n",
    "# Подготовка данных для кластеризации\n",
    "numeric_columns = [\"age\", \"income\", \"loyalty_score\"]  # числовые столбцы для кластеризации\n",
    "data_for_clustering = dfc[numeric_columns]\n",
    "#print(data_for_clustering.head(10))\n",
    "\n",
    "# Нормализация данных\n",
    "scaler = StandardScaler()\n",
    "scaled_data = scaler.fit_transform(data_for_clustering)\n",
    "print(scaled_data)\n",
    "# Метод локтя для определения количества кластеров\n",
    "inertia = []  # Список для хранения суммы квадратов внутрикластерных расстояний\n",
    "k_range = range(1, 20)  # Диапазон возможных кластеров\n",
    "\n",
    "for k in k_range:\n",
    "    kmeans = KMeans(n_clusters=k, random_state=42)\n",
    "    kmeans.fit(scaled_data)\n",
    "    inertia.append(kmeans.inertia_)\n",
    "\n",
    "# Построение графика метода локтя\n",
    "plt.figure(figsize=(10, 6))\n",
    "plt.plot(k_range, inertia, 'bo-', markersize=8)\n",
    "plt.xlabel('Количество кластеров', fontsize=12)\n",
    "plt.ylabel('Сумма квадратов внутрикластерных расстояний (Inertia)', fontsize=12)\n",
    "plt.title('Метод локтя для выбора количества кластеров', fontsize=14)\n",
    "plt.grid(True)\n",
    "plt.show()\n"
   ]
  },
  {
   "cell_type": "markdown",
   "id": "8c24db0b-66ba-48e7-98b3-6f147206fd87",
   "metadata": {},
   "source": []
  },
  {
   "cell_type": "code",
   "execution_count": null,
   "id": "e13c4485-5df9-4579-8e95-b6aceb45a600",
   "metadata": {},
   "outputs": [],
   "source": [
    "# Кластеризация (выбираем 10 кластеров как пример)\n",
    "kmeans = KMeans(n_clusters=10, random_state=42)\n",
    "dfc['cluster'] = kmeans.fit_predict(scaled_data)\n",
    "#print(dfc.head(10))\n",
    "# Разделение клиентов на группы A и B\n",
    "group_A = []\n",
    "group_B = []\n",
    "\n",
    "# Равномерное распределение клиентов из каждого кластера\n",
    "for cluster_id in dfc['cluster'].unique():\n",
    "    cluster_clients = dfc[dfc['cluster'] == cluster_id]\n",
    "    #if cluster_id == 1:\n",
    "        #print(cluster_clients.head(10))\n",
    "    sampled_clients = cluster_clients.sample(n= 2 * int(sample_size) // 10)#, random_state=42)  # Пропорционально числу кластеров\n",
    "    half = len(sampled_clients) // 2\n",
    "    \n",
    "    group_A.extend(sampled_clients.iloc[:half]['client_id'].tolist())\n",
    "    group_B.extend(sampled_clients.iloc[half:]['client_id'].tolist())\n",
    "\n",
    "# Проверка итоговых размеров групп\n",
    "print('Sizes',len(group_A), len(group_B))\n",
    "#print(group_A[:10],group_B[:10])\n",
    "\n",
    "group_A_df = dfc[dfc['client_id'].isin(group_A)]\n",
    "group_B_df = dfc[dfc['client_id'].isin(group_B)]\n",
    "\n",
    "group_A_df = group_A_df.merge(dfp_inc, on='client_id', how='left')\n",
    "group_B_df = group_B_df.merge(dfp_inc, on='client_id', how='left')\n",
    "\n",
    "# Просмотр первых 5 строк для каждой группы\n",
    "print(group_A_df.total_purchase_amount.mean(),'\\n', group_B_df.total_purchase_amount.mean())"
   ]
  },
  {
   "cell_type": "code",
   "execution_count": null,
   "id": "59fffe70-03a8-46e8-9f61-5b6c21e94e6c",
   "metadata": {},
   "outputs": [],
   "source": [
    "# Строим гистограмму распределения общей суммы покупок группы А\n",
    "plt.figure(figsize=(10, 6))\n",
    "sns.histplot(group_A_df.total_purchase_amount, kde=True, bins=50, color='skyblue')\n",
    "\n",
    "# Настройка графика\n",
    "plt.title('Распределение общей суммы покупок по клиентам', fontsize=16)\n",
    "plt.xlabel('Общая сумма покупок', fontsize=12)\n",
    "plt.ylabel('Частота', fontsize=12)\n",
    "plt.grid(True)\n",
    "\n",
    "# Показываем график\n",
    "plt.show()\n",
    "\n",
    "# Строим гистограмму распределения общей суммы покупок группы Б\n",
    "plt.figure(figsize=(10, 6))\n",
    "sns.histplot(group_B_df.total_purchase_amount, kde=True, bins=50, color='skyblue')\n",
    "\n",
    "# Настройка графика\n",
    "plt.title('Распределение общей суммы покупок по клиентам', fontsize=16)\n",
    "plt.xlabel('Общая сумма покупок', fontsize=12)\n",
    "plt.ylabel('Частота', fontsize=12)\n",
    "plt.grid(True)\n",
    "\n",
    "# Показываем график\n",
    "plt.show()"
   ]
  },
  {
   "cell_type": "code",
   "execution_count": null,
   "id": "f6e015c5-7292-4af6-9257-1922520d6b16",
   "metadata": {},
   "outputs": [],
   "source": [
    "# Параметры\n",
    "dates_range = pd.date_range(start=\"2024-11-01\", end=\"2024-11-14\")  # Для двух недель\n",
    "num_clients_A = len(group_A)  # Количество клиентов в группе A\n",
    "num_clients_B = len(group_B)  # Количество клиентов в группе B\n",
    "\n",
    "print(num_clients_A,num_clients_B)\n",
    "# Генерация покупок для группы A\n",
    "purchase_data_A = []\n",
    "for client_id in group_A:\n",
    "    num_purchases = np.random.randint(1, 10)  # случайное количество покупок (от 1 до 10)\n",
    "    for _ in range(num_purchases):\n",
    "        purchase_data_A.append({\n",
    "            \"client_id\": client_id,\n",
    "            \"purchase_amount\": round(np.random.uniform(5, 500), 2),  # случайная сумма покупки\n",
    "            \"purchase_date\": np.random.choice(dates_range)  # случайная дата\n",
    "        })\n",
    "\n",
    "# Генерация покупок для группы B (с увеличением суммы покупок на 6%)\n",
    "purchase_data_B = []\n",
    "for client_id in group_B:\n",
    "    num_purchases = np.random.randint(1, 10)  # случайное количество покупок (от 1 до 10)\n",
    "    for _ in range(num_purchases):\n",
    "        purchase_data_B.append({\n",
    "            \"client_id\": client_id,\n",
    "            \"purchase_amount\": round(np.random.uniform(5, 500) * 1.01, 2),  # увеличение суммы на 5%\n",
    "            \"purchase_date\": np.random.choice(dates_range)  # случайная дата\n",
    "        })\n",
    "\n",
    "# Создаем DataFrame для покупок группы A и B\n",
    "\n",
    "df_A = pd.DataFrame(purchase_data_A)\n",
    "df_B = pd.DataFrame(purchase_data_B)\n",
    "\n",
    "dfp_inc_A = df_A.groupby('client_id')['purchase_amount'].sum().reset_index()\n",
    "dfp_inc_A.rename(columns={'purchase_amount': 'total_purchase_amount'}, inplace=True)\n",
    "dfp_inc_B = df_B.groupby('client_id')['purchase_amount'].sum().reset_index()\n",
    "dfp_inc_B.rename(columns={'purchase_amount': 'total_purchase_amount'}, inplace=True)\n",
    "\n",
    "# Проверим, как выглядят данные\n",
    "print(dfp_inc_A.head(10))\n",
    "print(dfp_inc_B.head(10))\n",
    "print(dfp_inc_A.total_purchase_amount.mean())\n",
    "print(dfp_inc_B.total_purchase_amount.mean())\n",
    "print(dfp_inc_A.total_purchase_amount.std())\n",
    "print(dfp_inc_B.total_purchase_amount.std())\n"
   ]
  },
  {
   "cell_type": "code",
   "execution_count": null,
   "id": "3739f02c-c54d-4d90-8fa1-01a966ec154c",
   "metadata": {},
   "outputs": [],
   "source": [
    "# Строим гистограмму распределения общей суммы покупок группы А\n",
    "plt.figure(figsize=(10, 6))\n",
    "sns.histplot(dfp_inc_A.total_purchase_amount, kde=True, bins=50, color='skyblue')\n",
    "\n",
    "# Настройка графика\n",
    "plt.title('Распределение общей суммы покупок по клиентам', fontsize=16)\n",
    "plt.xlabel('Общая сумма покупок', fontsize=12)\n",
    "plt.ylabel('Частота', fontsize=12)\n",
    "plt.grid(True)\n",
    "\n",
    "# Показываем график\n",
    "plt.show()\n",
    "\n",
    "# Строим гистограмму распределения общей суммы покупок группы Б\n",
    "plt.figure(figsize=(10, 6))\n",
    "sns.histplot(dfp_inc_B.total_purchase_amount, kde=True, bins=50, color='skyblue')\n",
    "\n",
    "# Настройка графика\n",
    "plt.title('Распределение общей суммы покупок по клиентам', fontsize=16)\n",
    "plt.xlabel('Общая сумма покупок', fontsize=12)\n",
    "plt.ylabel('Частота', fontsize=12)\n",
    "plt.grid(True)\n",
    "\n",
    "# Показываем график\n",
    "plt.show()"
   ]
  },
  {
   "cell_type": "markdown",
   "id": "27992cf6-e634-4538-9a57-230932f27b36",
   "metadata": {},
   "source": [
    "Проводим тест Шапиро для проверки на нормальность распределений"
   ]
  },
  {
   "cell_type": "code",
   "execution_count": null,
   "id": "6296cced-ec94-42b5-b12d-91ee95f3cab3",
   "metadata": {},
   "outputs": [],
   "source": [
    "test_stat_A, pvalue_A = shapiro(dfp_inc_A.total_purchase_amount)\n",
    "print('Group A - Test Stat = %.23f, p-value = %.23f' % (test_stat_A, pvalue_A))\n",
    "\n",
    "# Тест Шапиро для группы B\n",
    "test_stat_B, pvalue_B = shapiro(dfp_inc_B.total_purchase_amount)\n",
    "print('Group B - Test Stat = %.23f, p-value = %.23f' % (test_stat_B, pvalue_B))"
   ]
  },
  {
   "cell_type": "markdown",
   "id": "9f479dac-1252-425e-8d9e-d4e1cc1430e6",
   "metadata": {},
   "source": [
    "Тест Левена для проверки гомогенности дисперсий"
   ]
  },
  {
   "cell_type": "code",
   "execution_count": null,
   "id": "4cb38925-0a90-4e86-a563-976af1383fbb",
   "metadata": {},
   "outputs": [],
   "source": [
    "test_stat, pvalue = levene(dfp_inc_A.total_purchase_amount, dfp_inc_B.total_purchase_amount)\n",
    "print('Test Stat = %.4f, p-value = %.4f' % (test_stat, pvalue))"
   ]
  },
  {
   "cell_type": "code",
   "execution_count": null,
   "id": "ed18e93d-19b8-4249-bc6b-0fd2c6534de9",
   "metadata": {},
   "outputs": [],
   "source": [
    "test_stat, pvalue = mannwhitneyu(dfp_inc_A.total_purchase_amount,dfp_inc_B.total_purchase_amount)\n",
    "print('Test Stat %.4f, p-value %.4f' % (test_stat, pvalue))"
   ]
  },
  {
   "cell_type": "code",
   "execution_count": null,
   "id": "615707db-095e-42a9-b729-e663d7259f28",
   "metadata": {},
   "outputs": [],
   "source": []
  },
  {
   "cell_type": "code",
   "execution_count": null,
   "id": "4e19f134-d2a2-4c37-a104-8853d20c52ea",
   "metadata": {},
   "outputs": [],
   "source": [
    "# def AB_Test():\n",
    "    \n",
    "#     # Packages\n",
    "#     from scipy.stats import shapiro\n",
    "#     import scipy.stats as stats\n",
    "    \n",
    "#     # Split A/B\n",
    "#     groupA = dfp_inc_A['total_purchase_amount']\n",
    "#     groupB = dfp_inc_A['total_purchase_amount']\n",
    "    \n",
    "#     # Assumption: Normality\n",
    "#     ntA = shapiro(groupA)[1] < 0.05\n",
    "#     ntB = shapiro(groupB)[1] < 0.05\n",
    "#     # H0: Distribution is Normal! - False\n",
    "#     # H1: Distribution is not Normal! - True\n",
    "    \n",
    "#     if (ntA == False) & (ntB == False): # \"H0: Normal Distribution\"\n",
    "#         # Parametric Test\n",
    "#         # Assumption: Homogeneity of variances\n",
    "#         leveneTest = stats.levene(groupA, groupB)[1] < 0.05\n",
    "#         # H0: Homogeneity: False\n",
    "#         # H1: Heterogeneous: True\n",
    "        \n",
    "#         if leveneTest == False:\n",
    "#             # Homogeneity\n",
    "#             ttest = stats.ttest_ind(groupA, groupB, equal_var=True)[1]\n",
    "#             # H0: M1 == M2 - False\n",
    "#             # H1: M1 != M2 - True\n",
    "#         else:\n",
    "#             # Heterogeneous\n",
    "#             ttest = stats.ttest_ind(groupA, groupB, equal_var=False)[1]\n",
    "#             # H0: M1 == M2 - False\n",
    "#             # H1: M1 != M2 - True\n",
    "#     else:\n",
    "#         # Non-Parametric Test\n",
    "#         ttest = stats.mannwhitneyu(groupA, groupB)[1] \n",
    "#         # H0: M1 == M2 - False\n",
    "#         # H1: M1 != M2 - True\n",
    "        \n",
    "#     # Result\n",
    "#     temp = pd.DataFrame({\n",
    "#         \"AB Hypothesis\":[ttest < 0.05], \n",
    "#         \"p-value\":[ttest]\n",
    "#     })\n",
    "#     temp[\"Test Type\"] = np.where((ntA == False) & (ntB == False), \"Parametric\", \"Non-Parametric\")\n",
    "#     temp[\"AB Hypothesis\"] = np.where(temp[\"AB Hypothesis\"] == False, \"Fail to Reject H0\", \"Reject H0\")\n",
    "#     temp[\"Comment\"] = np.where(temp[\"AB Hypothesis\"] == \"Fail to Reject H0\", \"A/B groups are similar!\", \"A/B groups are not similar!\")\n",
    "    \n",
    "#     # Columns\n",
    "#     if (ntA == False) & (ntB == False):\n",
    "#         temp[\"Homogeneity\"] = np.where(leveneTest == False, \"Yes\", \"No\")\n",
    "#         temp = temp[[\"Test Type\", \"Homogeneity\",\"AB Hypothesis\", \"p-value\", \"Comment\"]]\n",
    "#     else:\n",
    "#         temp = temp[[\"Test Type\",\"AB Hypothesis\", \"p-value\", \"Comment\"]]\n",
    "    \n",
    "#     # Print Hypothesis\n",
    "#     print(\"# A/B Testing Hypothesis\")\n",
    "#     print(\"H0: A == B\")\n",
    "#     print(\"H1: A != B\", \"\\n\")\n",
    "    \n",
    "#     return temp\n",
    "    \n",
    "    \n",
    "    \n",
    "# # Apply A/B Testing\n",
    "# AB_Test()"
   ]
  },
  {
   "cell_type": "code",
   "execution_count": null,
   "id": "6b414df1-3de2-46d7-b0cc-51cfaee8ad47",
   "metadata": {},
   "outputs": [],
   "source": [
    "# dfp_inc_A['total_purchase_amount'].std()"
   ]
  },
  {
   "cell_type": "code",
   "execution_count": null,
   "id": "60c4c7fc-ac1a-433a-a74d-6e2a3b4c3d2c",
   "metadata": {},
   "outputs": [],
   "source": [
    "# dfp_inc_B['total_purchase_amount'].mean()"
   ]
  },
  {
   "cell_type": "code",
   "execution_count": null,
   "id": "7dff33f1-7827-47a3-9491-b2b8d1349106",
   "metadata": {},
   "outputs": [],
   "source": [
    "# quantile_95 = norm.ppf(0.95, loc=50, scale=30)\n",
    "# print(f\"95%-квантиль: {quantile_95}\")"
   ]
  },
  {
   "cell_type": "code",
   "execution_count": null,
   "id": "4b3beeec-3557-485b-968f-2db8ea062e7b",
   "metadata": {},
   "outputs": [],
   "source": []
  }
 ],
 "metadata": {
  "kernelspec": {
   "display_name": "Python 3 (ipykernel)",
   "language": "python",
   "name": "python3"
  },
  "language_info": {
   "codemirror_mode": {
    "name": "ipython",
    "version": 3
   },
   "file_extension": ".py",
   "mimetype": "text/x-python",
   "name": "python",
   "nbconvert_exporter": "python",
   "pygments_lexer": "ipython3",
   "version": "3.12.4"
  }
 },
 "nbformat": 4,
 "nbformat_minor": 5
}
