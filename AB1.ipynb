{
 "cells": [
  {
   "cell_type": "markdown",
   "id": "135365e4-531a-454f-bebe-73be3542be2b",
   "metadata": {},
   "source": [
    "hello"
   ]
  },
  {
   "cell_type": "code",
   "execution_count": 81,
   "id": "aa50cfe7-bdce-4d1a-bc32-a266b9ea32b4",
   "metadata": {},
   "outputs": [
    {
     "name": "stdout",
     "output_type": "stream",
     "text": [
      "оценка необходимого размера групп = 2352\n",
      "оценка необходимого размера групп 1 = 2378.840414004076\n"
     ]
    }
   ],
   "source": [
    "import numpy as np\n",
    "import statsmodels.stats as sms\n",
    "from scipy import stats\n",
    "\n",
    "#import pandas as pd\n",
    "#import numpy as np\n",
    "#import matplotlib.pyplot as plt\n",
    "#import seaborn as sns\n",
    "#import statsmodels.api as sma\n",
    "#from scipy.stats import ttest_1samp, shapiro, levene, ttest_ind, mannwhitneyu, \\\n",
    "   #pearsonr, spearmanr, kendalltau, f_oneway, kruskal\n",
    "#from statsmodels.stats.proportion import proportions_ztest\n",
    "\n",
    "\n",
    "alpha = 0.05                     # допустимая вероятность ошибки I рода\n",
    "beta = 0.2                      # допустимая вероятность ошибки II рода\n",
    "mu_control = 1300               # средняя выручка с пользователя в контрольной группе\n",
    "effect = 1300*0.05                    # ожидаемый размер эффекта\n",
    "mu_pilot = mu_control + effect  # средняя выручка с пользователя в экспериментальной группе\n",
    "std = 800                       # стандартное отклонение\n",
    "\n",
    "# исторические данные выручки для 10000 клиентов\n",
    "values = np.random.normal(mu_control, std, 10000)\n",
    "\n",
    "def estimate_sample_size(effect, std, alpha, beta):\n",
    "    \"\"\"Оценка необходимого размер групп.\"\"\"\n",
    "    t_alpha = stats.norm.ppf(1 - alpha / 2, loc=0, scale=1)\n",
    "    t_beta = stats.norm.ppf(1 - beta, loc=0, scale=1)\n",
    "    var = 2 * std ** 2\n",
    "    sample_size = int((t_alpha + t_beta) ** 2 * var / (effect ** 2))\n",
    "    return sample_size\n",
    "\n",
    "cohen_d = effect / std\n",
    "\n",
    "\n",
    "estimated_std = np.std(values)\n",
    "sample_size = estimate_sample_size(effect, estimated_std, alpha, beta)\n",
    "sample_size1 = sms.power.TTestIndPower().solve_power(effect_size=cohen_d, alpha=alpha, power=1-beta, alternative='two-sided')\n",
    " \n",
    "\n",
    "print(f'оценка необходимого размера групп = {sample_size}')\n",
    "print(f'оценка необходимого размера групп 1 = {sample_size1}')"
   ]
  },
  {
   "cell_type": "code",
   "execution_count": null,
   "id": "db1692bf-0917-45be-93fd-ba4a2909a2b3",
   "metadata": {},
   "outputs": [],
   "source": []
  },
  {
   "cell_type": "code",
   "execution_count": 82,
   "id": "d91b7fcf-f00e-47d4-ac84-b01bf3490223",
   "metadata": {},
   "outputs": [
    {
     "name": "stdout",
     "output_type": "stream",
     "text": [
      "оценка вероятности ошибки I рода = 0.0484\n",
      "  доверительный интервал = [0.0442, 0.0526]\n",
      "оценка вероятности ошибки II рода = 0.2037\n",
      "  доверительный интервал = [0.1958, 0.2116]\n"
     ]
    }
   ],
   "source": [
    "def run_synthetic_experiments(values, sample_size, effect=0, n_iter=10000):\n",
    "    \"\"\"Проводим синтетические эксперименты, возвращаем список p-value.\"\"\"\n",
    "    pvalues = []\n",
    "    for _ in range(n_iter):\n",
    "        a, b = np.random.choice(values, size=(2, sample_size,), replace=False)\n",
    "        b += effect\n",
    "        pvalue = stats.ttest_ind(a, b).pvalue\n",
    "        pvalues.append(pvalue)\n",
    "    return np.array(pvalues)\n",
    "\n",
    "def print_estimated_errors(pvalues_aa, pvalues_ab, alpha):\n",
    "    \"\"\"Оценивает вероятности ошибок.\"\"\"\n",
    "    estimated_first_type_error = np.mean(pvalues_aa < alpha)\n",
    "    estimated_second_type_error = np.mean(pvalues_ab >= alpha)\n",
    "    ci_first = estimate_ci_bernoulli(estimated_first_type_error, len(pvalues_aa))\n",
    "    ci_second = estimate_ci_bernoulli(estimated_second_type_error, len(pvalues_ab))\n",
    "    print(f'оценка вероятности ошибки I рода = {estimated_first_type_error:0.4f}')\n",
    "    print(f'  доверительный интервал = [{ci_first[0]:0.4f}, {ci_first[1]:0.4f}]')\n",
    "    print(f'оценка вероятности ошибки II рода = {estimated_second_type_error:0.4f}')\n",
    "    print(f'  доверительный интервал = [{ci_second[0]:0.4f}, {ci_second[1]:0.4f}]')\n",
    "\n",
    "def estimate_ci_bernoulli(p, n, alpha=0.05):\n",
    "    \"\"\"Доверительный интервал для Бернуллиевской случайной величины.\"\"\"\n",
    "    t = stats.norm.ppf(1 - alpha / 2, loc=0, scale=1)\n",
    "    std_n = np.sqrt(p * (1 - p) / n)\n",
    "    return p - t * std_n, p + t * std_n\n",
    "\n",
    "pvalues_aa = run_synthetic_experiments(values, sample_size, effect=0)\n",
    "pvalues_ab = run_synthetic_experiments(values, sample_size, effect=effect)\n",
    "print_estimated_errors(pvalues_aa, pvalues_ab, alpha)"
   ]
  },
  {
   "cell_type": "code",
   "execution_count": 39,
   "id": "97f6834c-5f04-4547-9ea3-a8250234bdbe",
   "metadata": {},
   "outputs": [
    {
     "name": "stdout",
     "output_type": "stream",
     "text": [
      "std = 785.2803371318107\n"
     ]
    },
    {
     "ename": "NameError",
     "evalue": "name 'power' is not defined",
     "output_type": "error",
     "traceback": [
      "\u001b[1;31m---------------------------------------------------------------------------\u001b[0m",
      "\u001b[1;31mNameError\u001b[0m                                 Traceback (most recent call last)",
      "Cell \u001b[1;32mIn[39], line 12\u001b[0m\n\u001b[0;32m     10\u001b[0m \u001b[38;5;28mprint\u001b[39m(\u001b[38;5;124m'\u001b[39m\u001b[38;5;124mstd =\u001b[39m\u001b[38;5;124m'\u001b[39m, std_dev)\n\u001b[0;32m     11\u001b[0m z_alpha \u001b[38;5;241m=\u001b[39m norm\u001b[38;5;241m.\u001b[39mppf(\u001b[38;5;241m1\u001b[39m \u001b[38;5;241m-\u001b[39m alpha \u001b[38;5;241m/\u001b[39m \u001b[38;5;241m2\u001b[39m)\n\u001b[1;32m---> 12\u001b[0m z_beta \u001b[38;5;241m=\u001b[39m norm\u001b[38;5;241m.\u001b[39mppf(power)  \n\u001b[0;32m     13\u001b[0m \u001b[38;5;28mprint\u001b[39m(z_alpha)\n\u001b[0;32m     14\u001b[0m \u001b[38;5;28mprint\u001b[39m(z_beta)\n",
      "\u001b[1;31mNameError\u001b[0m: name 'power' is not defined"
     ]
    }
   ],
   "source": [
    "import statsmodels.stats as sms\n",
    "from scipy.stats import norm\n",
    "# Параметры\n",
    "alpha = 0.05  # уровень значимостиal\n",
    "alpha = 0.2   # мощность теста\n",
    "effect_size = 0.05  # МДЕ в процентах\n",
    "baseline_mean = values.mean()  # средняя выручка\n",
    "std_dev = values.std()  # стандартное отклонение\n",
    "\n",
    "print('std =', std_dev)\n",
    "z_alpha = norm.ppf(1 - alpha / 2)\n",
    "z_beta = norm.ppf(power)  \n",
    "print(z_alpha)\n",
    "print(z_beta)\n",
    "# Расчет минимального эффекта (в абсолютных единицах)\n",
    "md_effect = baseline_mean * effect_size\n",
    "print(md_effect)\n",
    "# Расчет эффекта в терминах стандартного отклонения (Cohen's d)\n",
    "cohen_d = md_effect / std_dev\n",
    "print(cohen_d)\n",
    "# Расчет размера выборки для двухвыборочного t-теста\n",
    "sample_size = sms.power.TTestIndPower().solve_power(effect_size=cohen_d, alpha=alpha, power=1-alpha, alternative='two-sided')\n",
    "\n",
    "# Вывод размера выборки\n",
    "print(f\"Необходимый размер выборки для каждой группы: {round(sample_size)}\")"
   ]
  },
  {
   "cell_type": "code",
   "execution_count": null,
   "id": "b2ade0bf-a108-4922-841d-ccfbf70c33ea",
   "metadata": {},
   "outputs": [],
   "source": []
  }
 ],
 "metadata": {
  "kernelspec": {
   "display_name": "Python 3 (ipykernel)",
   "language": "python",
   "name": "python3"
  },
  "language_info": {
   "codemirror_mode": {
    "name": "ipython",
    "version": 3
   },
   "file_extension": ".py",
   "mimetype": "text/x-python",
   "name": "python",
   "nbconvert_exporter": "python",
   "pygments_lexer": "ipython3",
   "version": "3.12.4"
  }
 },
 "nbformat": 4,
 "nbformat_minor": 5
}
